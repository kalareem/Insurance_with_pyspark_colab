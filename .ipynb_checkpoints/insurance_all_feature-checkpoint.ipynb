{
 "cells": [
  {
   "cell_type": "markdown",
   "metadata": {
    "id": "FH5pVRfMSnRi"
   },
   "source": [
    "# Data Preparation"
   ]
  },
  {
   "cell_type": "code",
   "execution_count": 1,
   "metadata": {
    "colab": {
     "base_uri": "https://localhost:8080/"
    },
    "executionInfo": {
     "elapsed": 5220,
     "status": "ok",
     "timestamp": 1679507217380,
     "user": {
      "displayName": "Kim JI",
      "userId": "12048402999669357880"
     },
     "user_tz": -420
    },
    "id": "YrjJFypGtdVt",
    "outputId": "aab001c5-cef8-427a-e840-b8ce3c94d80f"
   },
   "outputs": [
    {
     "name": "stdout",
     "output_type": "stream",
     "text": [
      "Requirement already satisfied: pyspark in c:\\users\\kimji\\anaconda3\\lib\\site-packages (3.3.2)\n",
      "Requirement already satisfied: py4j==0.10.9.5 in c:\\users\\kimji\\anaconda3\\lib\\site-packages (from pyspark) (0.10.9.5)\n"
     ]
    }
   ],
   "source": [
    "!pip install pyspark"
   ]
  },
  {
   "cell_type": "code",
   "execution_count": 2,
   "metadata": {
    "executionInfo": {
     "elapsed": 7,
     "status": "ok",
     "timestamp": 1679507217381,
     "user": {
      "displayName": "Kim JI",
      "userId": "12048402999669357880"
     },
     "user_tz": -420
    },
    "id": "5athF25GturM"
   },
   "outputs": [],
   "source": [
    "from pyspark.sql import SparkSession\n",
    "from pyspark import SparkConf, SparkContext\n",
    "\n",
    "spark = SparkSession.builder.master(\"local[*]\").getOrCreate()\n",
    "sc = SparkContext.getOrCreate();"
   ]
  },
  {
   "cell_type": "code",
   "execution_count": 3,
   "metadata": {
    "executionInfo": {
     "elapsed": 6,
     "status": "ok",
     "timestamp": 1679507217381,
     "user": {
      "displayName": "Kim JI",
      "userId": "12048402999669357880"
     },
     "user_tz": -420
    },
    "id": "2qLftPbS1aSH"
   },
   "outputs": [
    {
     "name": "stderr",
     "output_type": "stream",
     "text": [
      "C:\\Users\\Kimji\\anaconda3\\lib\\site-packages\\scipy\\__init__.py:146: UserWarning: A NumPy version >=1.16.5 and <1.23.0 is required for this version of SciPy (detected version 1.24.3\n",
      "  warnings.warn(f\"A NumPy version >={np_minversion} and <{np_maxversion}\"\n"
     ]
    }
   ],
   "source": [
    "from pyspark.sql.functions import *\n",
    "from pyspark.ml.feature import VectorAssembler\n",
    "from pyspark.ml.feature import StringIndexer"
   ]
  },
  {
   "cell_type": "code",
   "execution_count": 4,
   "metadata": {
    "executionInfo": {
     "elapsed": 7,
     "status": "ok",
     "timestamp": 1679507217382,
     "user": {
      "displayName": "Kim JI",
      "userId": "12048402999669357880"
     },
     "user_tz": -420
    },
    "id": "8kJHtu3M-8Gt"
   },
   "outputs": [],
   "source": [
    "from pyspark.ml.classification import NaiveBayes\n",
    "from pyspark.ml.evaluation import MulticlassClassificationEvaluator"
   ]
  },
  {
   "cell_type": "code",
   "execution_count": 5,
   "metadata": {
    "executionInfo": {
     "elapsed": 6,
     "status": "ok",
     "timestamp": 1679507217382,
     "user": {
      "displayName": "Kim JI",
      "userId": "12048402999669357880"
     },
     "user_tz": -420
    },
    "id": "E-DBuQH2uIdJ"
   },
   "outputs": [],
   "source": [
    "import pandas as pd\n",
    "import numpy as np"
   ]
  },
  {
   "cell_type": "code",
   "execution_count": 6,
   "metadata": {
    "executionInfo": {
     "elapsed": 9744,
     "status": "ok",
     "timestamp": 1679507227120,
     "user": {
      "displayName": "Kim JI",
      "userId": "12048402999669357880"
     },
     "user_tz": -420
    },
    "id": "r06GHi-ktxiH"
   },
   "outputs": [
    {
     "ename": "AnalysisException",
     "evalue": "Path does not exist: file:/content/drive/MyDrive/Sample_Data/insurance.csv",
     "output_type": "error",
     "traceback": [
      "\u001b[1;31m---------------------------------------------------------------------------\u001b[0m",
      "\u001b[1;31mAnalysisException\u001b[0m                         Traceback (most recent call last)",
      "Input \u001b[1;32mIn [6]\u001b[0m, in \u001b[0;36m<cell line: 1>\u001b[1;34m()\u001b[0m\n\u001b[1;32m----> 1\u001b[0m ins \u001b[38;5;241m=\u001b[39m \u001b[43mspark\u001b[49m\u001b[38;5;241;43m.\u001b[39;49m\u001b[43mread\u001b[49m\u001b[38;5;241;43m.\u001b[39;49m\u001b[43mcsv\u001b[49m\u001b[43m(\u001b[49m\u001b[38;5;124;43m\"\u001b[39;49m\u001b[38;5;124;43m/content/drive/MyDrive/Sample_Data/insurance.csv\u001b[39;49m\u001b[38;5;124;43m\"\u001b[39;49m\u001b[43m,\u001b[49m\u001b[43m \u001b[49m\u001b[43mheader\u001b[49m\u001b[38;5;241;43m=\u001b[39;49m\u001b[38;5;28;43;01mTrue\u001b[39;49;00m\u001b[43m)\u001b[49m\n",
      "File \u001b[1;32m~\\anaconda3\\lib\\site-packages\\pyspark\\sql\\readwriter.py:535\u001b[0m, in \u001b[0;36mDataFrameReader.csv\u001b[1;34m(self, path, schema, sep, encoding, quote, escape, comment, header, inferSchema, ignoreLeadingWhiteSpace, ignoreTrailingWhiteSpace, nullValue, nanValue, positiveInf, negativeInf, dateFormat, timestampFormat, maxColumns, maxCharsPerColumn, maxMalformedLogPerPartition, mode, columnNameOfCorruptRecord, multiLine, charToEscapeQuoteEscaping, samplingRatio, enforceSchema, emptyValue, locale, lineSep, pathGlobFilter, recursiveFileLookup, modifiedBefore, modifiedAfter, unescapedQuoteHandling)\u001b[0m\n\u001b[0;32m    533\u001b[0m \u001b[38;5;28;01mif\u001b[39;00m \u001b[38;5;28mtype\u001b[39m(path) \u001b[38;5;241m==\u001b[39m \u001b[38;5;28mlist\u001b[39m:\n\u001b[0;32m    534\u001b[0m     \u001b[38;5;28;01massert\u001b[39;00m \u001b[38;5;28mself\u001b[39m\u001b[38;5;241m.\u001b[39m_spark\u001b[38;5;241m.\u001b[39m_sc\u001b[38;5;241m.\u001b[39m_jvm \u001b[38;5;129;01mis\u001b[39;00m \u001b[38;5;129;01mnot\u001b[39;00m \u001b[38;5;28;01mNone\u001b[39;00m\n\u001b[1;32m--> 535\u001b[0m     \u001b[38;5;28;01mreturn\u001b[39;00m \u001b[38;5;28mself\u001b[39m\u001b[38;5;241m.\u001b[39m_df(\u001b[38;5;28;43mself\u001b[39;49m\u001b[38;5;241;43m.\u001b[39;49m\u001b[43m_jreader\u001b[49m\u001b[38;5;241;43m.\u001b[39;49m\u001b[43mcsv\u001b[49m\u001b[43m(\u001b[49m\u001b[38;5;28;43mself\u001b[39;49m\u001b[38;5;241;43m.\u001b[39;49m\u001b[43m_spark\u001b[49m\u001b[38;5;241;43m.\u001b[39;49m\u001b[43m_sc\u001b[49m\u001b[38;5;241;43m.\u001b[39;49m\u001b[43m_jvm\u001b[49m\u001b[38;5;241;43m.\u001b[39;49m\u001b[43mPythonUtils\u001b[49m\u001b[38;5;241;43m.\u001b[39;49m\u001b[43mtoSeq\u001b[49m\u001b[43m(\u001b[49m\u001b[43mpath\u001b[49m\u001b[43m)\u001b[49m\u001b[43m)\u001b[49m)\n\u001b[0;32m    536\u001b[0m \u001b[38;5;28;01melif\u001b[39;00m \u001b[38;5;28misinstance\u001b[39m(path, RDD):\n\u001b[0;32m    538\u001b[0m     \u001b[38;5;28;01mdef\u001b[39;00m \u001b[38;5;21mfunc\u001b[39m(iterator):\n",
      "File \u001b[1;32m~\\anaconda3\\lib\\site-packages\\py4j\\java_gateway.py:1321\u001b[0m, in \u001b[0;36mJavaMember.__call__\u001b[1;34m(self, *args)\u001b[0m\n\u001b[0;32m   1315\u001b[0m command \u001b[38;5;241m=\u001b[39m proto\u001b[38;5;241m.\u001b[39mCALL_COMMAND_NAME \u001b[38;5;241m+\u001b[39m\\\n\u001b[0;32m   1316\u001b[0m     \u001b[38;5;28mself\u001b[39m\u001b[38;5;241m.\u001b[39mcommand_header \u001b[38;5;241m+\u001b[39m\\\n\u001b[0;32m   1317\u001b[0m     args_command \u001b[38;5;241m+\u001b[39m\\\n\u001b[0;32m   1318\u001b[0m     proto\u001b[38;5;241m.\u001b[39mEND_COMMAND_PART\n\u001b[0;32m   1320\u001b[0m answer \u001b[38;5;241m=\u001b[39m \u001b[38;5;28mself\u001b[39m\u001b[38;5;241m.\u001b[39mgateway_client\u001b[38;5;241m.\u001b[39msend_command(command)\n\u001b[1;32m-> 1321\u001b[0m return_value \u001b[38;5;241m=\u001b[39m \u001b[43mget_return_value\u001b[49m\u001b[43m(\u001b[49m\n\u001b[0;32m   1322\u001b[0m \u001b[43m    \u001b[49m\u001b[43manswer\u001b[49m\u001b[43m,\u001b[49m\u001b[43m \u001b[49m\u001b[38;5;28;43mself\u001b[39;49m\u001b[38;5;241;43m.\u001b[39;49m\u001b[43mgateway_client\u001b[49m\u001b[43m,\u001b[49m\u001b[43m \u001b[49m\u001b[38;5;28;43mself\u001b[39;49m\u001b[38;5;241;43m.\u001b[39;49m\u001b[43mtarget_id\u001b[49m\u001b[43m,\u001b[49m\u001b[43m \u001b[49m\u001b[38;5;28;43mself\u001b[39;49m\u001b[38;5;241;43m.\u001b[39;49m\u001b[43mname\u001b[49m\u001b[43m)\u001b[49m\n\u001b[0;32m   1324\u001b[0m \u001b[38;5;28;01mfor\u001b[39;00m temp_arg \u001b[38;5;129;01min\u001b[39;00m temp_args:\n\u001b[0;32m   1325\u001b[0m     temp_arg\u001b[38;5;241m.\u001b[39m_detach()\n",
      "File \u001b[1;32m~\\anaconda3\\lib\\site-packages\\pyspark\\sql\\utils.py:196\u001b[0m, in \u001b[0;36mcapture_sql_exception.<locals>.deco\u001b[1;34m(*a, **kw)\u001b[0m\n\u001b[0;32m    192\u001b[0m converted \u001b[38;5;241m=\u001b[39m convert_exception(e\u001b[38;5;241m.\u001b[39mjava_exception)\n\u001b[0;32m    193\u001b[0m \u001b[38;5;28;01mif\u001b[39;00m \u001b[38;5;129;01mnot\u001b[39;00m \u001b[38;5;28misinstance\u001b[39m(converted, UnknownException):\n\u001b[0;32m    194\u001b[0m     \u001b[38;5;66;03m# Hide where the exception came from that shows a non-Pythonic\u001b[39;00m\n\u001b[0;32m    195\u001b[0m     \u001b[38;5;66;03m# JVM exception message.\u001b[39;00m\n\u001b[1;32m--> 196\u001b[0m     \u001b[38;5;28;01mraise\u001b[39;00m converted \u001b[38;5;28;01mfrom\u001b[39;00m \u001b[38;5;28mNone\u001b[39m\n\u001b[0;32m    197\u001b[0m \u001b[38;5;28;01melse\u001b[39;00m:\n\u001b[0;32m    198\u001b[0m     \u001b[38;5;28;01mraise\u001b[39;00m\n",
      "\u001b[1;31mAnalysisException\u001b[0m: Path does not exist: file:/content/drive/MyDrive/Sample_Data/insurance.csv"
     ]
    }
   ],
   "source": [
    "ins = spark.read.csv(\"/content/drive/MyDrive/Sample_Data/insurance.csv\", header=True)"
   ]
  },
  {
   "cell_type": "code",
   "execution_count": null,
   "metadata": {
    "executionInfo": {
     "elapsed": 15,
     "status": "ok",
     "timestamp": 1679507227120,
     "user": {
      "displayName": "Kim JI",
      "userId": "12048402999669357880"
     },
     "user_tz": -420
    },
    "id": "rdgBsIVOt7SM"
   },
   "outputs": [],
   "source": [
    "df = pd.read_csv('/content/drive/MyDrive/Sample_Data/insurance.csv')"
   ]
  },
  {
   "cell_type": "code",
   "execution_count": null,
   "metadata": {
    "colab": {
     "base_uri": "https://localhost:8080/",
     "height": 0
    },
    "executionInfo": {
     "elapsed": 15,
     "status": "ok",
     "timestamp": 1679507227120,
     "user": {
      "displayName": "Kim JI",
      "userId": "12048402999669357880"
     },
     "user_tz": -420
    },
    "id": "hqdYNFPUuAp8",
    "outputId": "8196b357-44c0-4d5b-a693-9e19df2a6eb0"
   },
   "outputs": [],
   "source": [
    "df"
   ]
  },
  {
   "cell_type": "code",
   "execution_count": null,
   "metadata": {
    "colab": {
     "base_uri": "https://localhost:8080/"
    },
    "executionInfo": {
     "elapsed": 14,
     "status": "ok",
     "timestamp": 1679507227121,
     "user": {
      "displayName": "Kim JI",
      "userId": "12048402999669357880"
     },
     "user_tz": -420
    },
    "id": "4mKyYzUMuMA1",
    "outputId": "221ae6a1-28c7-49ab-c115-09ec0ef3830b"
   },
   "outputs": [],
   "source": [
    "df.info()"
   ]
  },
  {
   "cell_type": "markdown",
   "metadata": {
    "id": "VeIwy7CNwWxB"
   },
   "source": [
    "femail = 0 , male = 1"
   ]
  },
  {
   "cell_type": "code",
   "execution_count": null,
   "metadata": {
    "executionInfo": {
     "elapsed": 13,
     "status": "ok",
     "timestamp": 1679507227121,
     "user": {
      "displayName": "Kim JI",
      "userId": "12048402999669357880"
     },
     "user_tz": -420
    },
    "id": "1AFWVxTeudlU"
   },
   "outputs": [],
   "source": [
    "df['sex'] = np.where(df['sex'] == \"female\", 0, 1)"
   ]
  },
  {
   "cell_type": "code",
   "execution_count": null,
   "metadata": {
    "executionInfo": {
     "elapsed": 13,
     "status": "ok",
     "timestamp": 1679507227121,
     "user": {
      "displayName": "Kim JI",
      "userId": "12048402999669357880"
     },
     "user_tz": -420
    },
    "id": "EJRtVCDFullM"
   },
   "outputs": [],
   "source": [
    "df['smoker'] = np.where(df['smoker'] == 'no', 0, 1)"
   ]
  },
  {
   "cell_type": "code",
   "execution_count": null,
   "metadata": {
    "colab": {
     "base_uri": "https://localhost:8080/",
     "height": 0
    },
    "executionInfo": {
     "elapsed": 12,
     "status": "ok",
     "timestamp": 1679507227121,
     "user": {
      "displayName": "Kim JI",
      "userId": "12048402999669357880"
     },
     "user_tz": -420
    },
    "id": "XzMNZNqIwaLi",
    "outputId": "b1c8bf5a-64d7-46c1-fc93-8eb5403e9a0c"
   },
   "outputs": [],
   "source": [
    "df"
   ]
  },
  {
   "cell_type": "code",
   "execution_count": null,
   "metadata": {
    "colab": {
     "base_uri": "https://localhost:8080/",
     "height": 0
    },
    "executionInfo": {
     "elapsed": 10,
     "status": "ok",
     "timestamp": 1679507227121,
     "user": {
      "displayName": "Kim JI",
      "userId": "12048402999669357880"
     },
     "user_tz": -420
    },
    "id": "Nm8vHk0pwo-n",
    "outputId": "6668a890-b510-4b79-d2c5-ed17993cd7cb"
   },
   "outputs": [],
   "source": [
    "df.loc[df['region'] == 'southwest', 'region'] = 0\n",
    "df.loc[df['region'] == 'southeast', 'region'] = 1\n",
    "df.loc[df['region'] == 'northwest', 'region'] = 2\n",
    "df.loc[df['region'] == 'northeast', 'region'] = 3\n",
    "df"
   ]
  },
  {
   "cell_type": "code",
   "execution_count": null,
   "metadata": {
    "executionInfo": {
     "elapsed": 11,
     "status": "ok",
     "timestamp": 1679507227122,
     "user": {
      "displayName": "Kim JI",
      "userId": "12048402999669357880"
     },
     "user_tz": -420
    },
    "id": "SK2u60adxRT_"
   },
   "outputs": [],
   "source": [
    "df['label'] = df['expenses']"
   ]
  },
  {
   "cell_type": "code",
   "execution_count": null,
   "metadata": {
    "executionInfo": {
     "elapsed": 10,
     "status": "ok",
     "timestamp": 1679507227122,
     "user": {
      "displayName": "Kim JI",
      "userId": "12048402999669357880"
     },
     "user_tz": -420
    },
    "id": "KaXPedfRxe74"
   },
   "outputs": [],
   "source": [
    "from pyspark.ml.regression import LinearRegression"
   ]
  },
  {
   "cell_type": "code",
   "execution_count": null,
   "metadata": {
    "colab": {
     "base_uri": "https://localhost:8080/"
    },
    "executionInfo": {
     "elapsed": 2567,
     "status": "ok",
     "timestamp": 1679507229679,
     "user": {
      "displayName": "Kim JI",
      "userId": "12048402999669357880"
     },
     "user_tz": -420
    },
    "id": "WH-Cakf3z-iZ",
    "outputId": "8b535170-4de2-44de-bab2-d924c745c0d5"
   },
   "outputs": [],
   "source": [
    "insDF = spark.createDataFrame(df)\n",
    "insDF.show()"
   ]
  },
  {
   "cell_type": "code",
   "execution_count": null,
   "metadata": {
    "executionInfo": {
     "elapsed": 12,
     "status": "ok",
     "timestamp": 1679507229680,
     "user": {
      "displayName": "Kim JI",
      "userId": "12048402999669357880"
     },
     "user_tz": -420
    },
    "id": "xJE0MUSP1h7K"
   },
   "outputs": [],
   "source": [
    "vectorAssembler = VectorAssembler(inputCols=['age','sex','bmi','children','smoker','region'], outputCol='features')"
   ]
  },
  {
   "cell_type": "code",
   "execution_count": null,
   "metadata": {
    "colab": {
     "base_uri": "https://localhost:8080/"
    },
    "executionInfo": {
     "elapsed": 1686,
     "status": "ok",
     "timestamp": 1679507231354,
     "user": {
      "displayName": "Kim JI",
      "userId": "12048402999669357880"
     },
     "user_tz": -420
    },
    "id": "95jp0111187l",
    "outputId": "ebabedcf-1fa0-4358-bdfa-5660cf978cfe"
   },
   "outputs": [],
   "source": [
    "vinsDF = vectorAssembler.transform(insDF)\n",
    "vinsDF.show()"
   ]
  },
  {
   "cell_type": "code",
   "execution_count": null,
   "metadata": {
    "executionInfo": {
     "elapsed": 5,
     "status": "ok",
     "timestamp": 1679507231355,
     "user": {
      "displayName": "Kim JI",
      "userId": "12048402999669357880"
     },
     "user_tz": -420
    },
    "id": "F-2HPyPN18-5"
   },
   "outputs": [],
   "source": [
    "#indexer = StringIndexer(inputCol='expenses', outputCol='label')\n",
    "#ivinsDF = indexer.fit(vinsDF).transform(vinsDF)\n",
    "#ivinsDF.show()"
   ]
  },
  {
   "cell_type": "code",
   "execution_count": null,
   "metadata": {
    "executionInfo": {
     "elapsed": 5,
     "status": "ok",
     "timestamp": 1679507231355,
     "user": {
      "displayName": "Kim JI",
      "userId": "12048402999669357880"
     },
     "user_tz": -420
    },
    "id": "El6VvnRQza70"
   },
   "outputs": [],
   "source": [
    "splits = vinsDF.randomSplit([0.7,0.3],1)\n",
    "trainDF = splits[0]\n",
    "testDF = splits[1]"
   ]
  },
  {
   "cell_type": "code",
   "execution_count": null,
   "metadata": {
    "colab": {
     "base_uri": "https://localhost:8080/"
    },
    "executionInfo": {
     "elapsed": 2511,
     "status": "ok",
     "timestamp": 1679507233862,
     "user": {
      "displayName": "Kim JI",
      "userId": "12048402999669357880"
     },
     "user_tz": -420
    },
    "id": "QWYr9YKL3-mI",
    "outputId": "240f4285-8273-41f7-b7c6-8b24c980e40f"
   },
   "outputs": [],
   "source": [
    "trainDF.show()"
   ]
  },
  {
   "cell_type": "code",
   "execution_count": null,
   "metadata": {
    "colab": {
     "base_uri": "https://localhost:8080/"
    },
    "executionInfo": {
     "elapsed": 3,
     "status": "ok",
     "timestamp": 1679507233862,
     "user": {
      "displayName": "Kim JI",
      "userId": "12048402999669357880"
     },
     "user_tz": -420
    },
    "id": "6yVk5sA94AQL",
    "outputId": "5072fe52-01f2-4dbd-cf11-5220fddb2ce8"
   },
   "outputs": [],
   "source": [
    "testDF.show()"
   ]
  },
  {
   "cell_type": "code",
   "execution_count": null,
   "metadata": {
    "colab": {
     "base_uri": "https://localhost:8080/"
    },
    "executionInfo": {
     "elapsed": 852,
     "status": "ok",
     "timestamp": 1679507234712,
     "user": {
      "displayName": "Kim JI",
      "userId": "12048402999669357880"
     },
     "user_tz": -420
    },
    "id": "TjytdeHI8RQ-",
    "outputId": "361bd43a-c778-402c-d88c-e1e0da52cac2"
   },
   "outputs": [],
   "source": [
    "testDF.select('features').where('expenses == 1737.38').take(1)"
   ]
  },
  {
   "cell_type": "code",
   "execution_count": null,
   "metadata": {
    "colab": {
     "base_uri": "https://localhost:8080/"
    },
    "executionInfo": {
     "elapsed": 1892,
     "status": "ok",
     "timestamp": 1679507236602,
     "user": {
      "displayName": "Kim JI",
      "userId": "12048402999669357880"
     },
     "user_tz": -420
    },
    "id": "psZqDrLA9Lf_",
    "outputId": "67d8918a-adb2-4b81-cc3f-565224d1b2bf"
   },
   "outputs": [],
   "source": [
    "testDF.select('features').where('expenses == 2331.52').take(1)"
   ]
  },
  {
   "cell_type": "code",
   "execution_count": null,
   "metadata": {
    "colab": {
     "base_uri": "https://localhost:8080/"
    },
    "executionInfo": {
     "elapsed": 1697,
     "status": "ok",
     "timestamp": 1679507238296,
     "user": {
      "displayName": "Kim JI",
      "userId": "12048402999669357880"
     },
     "user_tz": -420
    },
    "id": "XM7yYGb-4Cxp",
    "outputId": "b710ef1d-247b-4da7-b437-cf0978a03113"
   },
   "outputs": [],
   "source": [
    "vinsDF.count()"
   ]
  },
  {
   "cell_type": "markdown",
   "metadata": {
    "id": "7d44jZ6PTxw2"
   },
   "source": [
    "# Linear Regression"
   ]
  },
  {
   "cell_type": "code",
   "execution_count": null,
   "metadata": {
    "executionInfo": {
     "elapsed": 2,
     "status": "ok",
     "timestamp": 1679507238296,
     "user": {
      "displayName": "Kim JI",
      "userId": "12048402999669357880"
     },
     "user_tz": -420
    },
    "id": "j1-2C87O4TD8"
   },
   "outputs": [],
   "source": [
    "lr = LinearRegression(featuresCol='features', labelCol='label')"
   ]
  },
  {
   "cell_type": "code",
   "execution_count": null,
   "metadata": {
    "executionInfo": {
     "elapsed": 2916,
     "status": "ok",
     "timestamp": 1679507241211,
     "user": {
      "displayName": "Kim JI",
      "userId": "12048402999669357880"
     },
     "user_tz": -420
    },
    "id": "Bt5BcofMyjky"
   },
   "outputs": [],
   "source": [
    "lrModel = lr.fit(trainDF)"
   ]
  },
  {
   "cell_type": "code",
   "execution_count": null,
   "metadata": {
    "colab": {
     "base_uri": "https://localhost:8080/"
    },
    "executionInfo": {
     "elapsed": 5,
     "status": "ok",
     "timestamp": 1679507241211,
     "user": {
      "displayName": "Kim JI",
      "userId": "12048402999669357880"
     },
     "user_tz": -420
    },
    "id": "OIWooaxz3zoJ",
    "outputId": "26e94496-47b3-4b13-bf8b-afc851fdcbd7"
   },
   "outputs": [],
   "source": [
    "lrPrediction = lrModel.transform(testDF)\n",
    "lrPrediction.show()"
   ]
  },
  {
   "cell_type": "code",
   "execution_count": null,
   "metadata": {
    "executionInfo": {
     "elapsed": 4,
     "status": "ok",
     "timestamp": 1679507241212,
     "user": {
      "displayName": "Kim JI",
      "userId": "12048402999669357880"
     },
     "user_tz": -420
    },
    "id": "3sIQkMsz6s3A"
   },
   "outputs": [],
   "source": [
    "evaluator = MulticlassClassificationEvaluator()"
   ]
  },
  {
   "cell_type": "code",
   "execution_count": null,
   "metadata": {
    "colab": {
     "base_uri": "https://localhost:8080/"
    },
    "executionInfo": {
     "elapsed": 4,
     "status": "ok",
     "timestamp": 1679507241212,
     "user": {
      "displayName": "Kim JI",
      "userId": "12048402999669357880"
     },
     "user_tz": -420
    },
    "id": "cmWTWsz1-wXw",
    "outputId": "0827f1d7-b2f8-47f9-fbf0-5b3f785851c1"
   },
   "outputs": [],
   "source": [
    "evaluator.setPredictionCol(\"prediction\")"
   ]
  },
  {
   "cell_type": "code",
   "execution_count": null,
   "metadata": {
    "executionInfo": {
     "elapsed": 2353,
     "status": "ok",
     "timestamp": 1679507243562,
     "user": {
      "displayName": "Kim JI",
      "userId": "12048402999669357880"
     },
     "user_tz": -420
    },
    "id": "zYydT63HBJhO"
   },
   "outputs": [],
   "source": [
    "dfAccuracy = evaluator.evaluate(lrPrediction)"
   ]
  },
  {
   "cell_type": "code",
   "execution_count": null,
   "metadata": {
    "colab": {
     "base_uri": "https://localhost:8080/"
    },
    "executionInfo": {
     "elapsed": 696,
     "status": "ok",
     "timestamp": 1679507244248,
     "user": {
      "displayName": "Kim JI",
      "userId": "12048402999669357880"
     },
     "user_tz": -420
    },
    "id": "9IoPYp0U_bCd",
    "outputId": "242308f8-f035-44d0-ba29-dbf39ed27cb6"
   },
   "outputs": [],
   "source": [
    "dfAccuracy"
   ]
  },
  {
   "cell_type": "code",
   "execution_count": null,
   "metadata": {
    "executionInfo": {
     "elapsed": 3,
     "status": "ok",
     "timestamp": 1679507244248,
     "user": {
      "displayName": "Kim JI",
      "userId": "12048402999669357880"
     },
     "user_tz": -420
    },
    "id": "wtKVmbuQ_fvN"
   },
   "outputs": [],
   "source": [
    "from pyspark.ml.feature import ChiSqSelector"
   ]
  },
  {
   "cell_type": "code",
   "execution_count": null,
   "metadata": {
    "executionInfo": {
     "elapsed": 1938,
     "status": "ok",
     "timestamp": 1679507246184,
     "user": {
      "displayName": "Kim JI",
      "userId": "12048402999669357880"
     },
     "user_tz": -420
    },
    "id": "vDzrL1YR4EWW"
   },
   "outputs": [],
   "source": [
    "selector=ChiSqSelector(percentile=0.9, featuresCol=\"features\", outputCol='selectedFeatures', labelCol= \"label\")\n",
    "model=selector.fit(trainDF)\n",
    "result = model.transform(trainDF)\n",
    "trainDF =result.select('label','selectedFeatures').withColumnRenamed('selectedFeatures', 'features')\n",
    "new_test=model.transform(testDF)\n",
    "testDF=new_test.select('label','selectedFeatures').withColumnRenamed('selectedFeatures', 'features')"
   ]
  },
  {
   "cell_type": "code",
   "execution_count": null,
   "metadata": {
    "colab": {
     "base_uri": "https://localhost:8080/",
     "height": 0
    },
    "executionInfo": {
     "elapsed": 15,
     "status": "ok",
     "timestamp": 1679507246186,
     "user": {
      "displayName": "Kim JI",
      "userId": "12048402999669357880"
     },
     "user_tz": -420
    },
    "id": "P1jnJ8Vb5Mf9",
    "outputId": "3758404e-910b-4057-9309-787b89242813"
   },
   "outputs": [],
   "source": [
    "df.sort_values(by=['expenses'])"
   ]
  },
  {
   "cell_type": "code",
   "execution_count": null,
   "metadata": {
    "colab": {
     "base_uri": "https://localhost:8080/"
    },
    "executionInfo": {
     "elapsed": 13,
     "status": "ok",
     "timestamp": 1679507246186,
     "user": {
      "displayName": "Kim JI",
      "userId": "12048402999669357880"
     },
     "user_tz": -420
    },
    "id": "3SbcZiZh5gMp",
    "outputId": "56d7245b-c4e6-4ae3-8fe0-a65163cfd0b1"
   },
   "outputs": [],
   "source": [
    "lrModel.coefficients"
   ]
  },
  {
   "cell_type": "code",
   "execution_count": null,
   "metadata": {
    "colab": {
     "base_uri": "https://localhost:8080/"
    },
    "executionInfo": {
     "elapsed": 11,
     "status": "ok",
     "timestamp": 1679507246187,
     "user": {
      "displayName": "Kim JI",
      "userId": "12048402999669357880"
     },
     "user_tz": -420
    },
    "id": "oIb0nIaJ_WWP",
    "outputId": "625dd7b2-239b-402d-f946-f9af2f3b4e92"
   },
   "outputs": [],
   "source": [
    "lrModel.summary.rootMeanSquaredError"
   ]
  },
  {
   "cell_type": "markdown",
   "metadata": {
    "id": "IweRMNz67ZNg"
   },
   "source": [
    "# Decision Tree"
   ]
  },
  {
   "cell_type": "code",
   "execution_count": null,
   "metadata": {
    "executionInfo": {
     "elapsed": 10,
     "status": "ok",
     "timestamp": 1679507246187,
     "user": {
      "displayName": "Kim JI",
      "userId": "12048402999669357880"
     },
     "user_tz": -420
    },
    "id": "HgCAJv4_7a_Z"
   },
   "outputs": [],
   "source": [
    "from pyspark.ml.regression import DecisionTreeRegressor\n",
    "from pyspark.ml.evaluation import RegressionEvaluator\n",
    "from pyspark.ml.feature import VectorAssembler"
   ]
  },
  {
   "cell_type": "code",
   "execution_count": null,
   "metadata": {
    "executionInfo": {
     "elapsed": 10,
     "status": "ok",
     "timestamp": 1679507246187,
     "user": {
      "displayName": "Kim JI",
      "userId": "12048402999669357880"
     },
     "user_tz": -420
    },
    "id": "4OP4JI6v-2BJ"
   },
   "outputs": [],
   "source": []
  },
  {
   "cell_type": "code",
   "execution_count": null,
   "metadata": {
    "executionInfo": {
     "elapsed": 11,
     "status": "ok",
     "timestamp": 1679507246188,
     "user": {
      "displayName": "Kim JI",
      "userId": "12048402999669357880"
     },
     "user_tz": -420
    },
    "id": "l7HOUhMa7cSi"
   },
   "outputs": [],
   "source": [
    "dt = DecisionTreeRegressor(featuresCol='features', labelCol='label')"
   ]
  },
  {
   "cell_type": "code",
   "execution_count": null,
   "metadata": {
    "executionInfo": {
     "elapsed": 6899,
     "status": "ok",
     "timestamp": 1679507253077,
     "user": {
      "displayName": "Kim JI",
      "userId": "12048402999669357880"
     },
     "user_tz": -420
    },
    "id": "UhbwNZvI8IMD"
   },
   "outputs": [],
   "source": [
    "dtModel = dt.fit(trainDF)"
   ]
  },
  {
   "cell_type": "code",
   "execution_count": null,
   "metadata": {
    "executionInfo": {
     "elapsed": 576,
     "status": "ok",
     "timestamp": 1679507253638,
     "user": {
      "displayName": "Kim JI",
      "userId": "12048402999669357880"
     },
     "user_tz": -420
    },
    "id": "r5HcxYkR8KHA"
   },
   "outputs": [],
   "source": [
    "dtPredictions = dtModel.transform(testDF)"
   ]
  },
  {
   "cell_type": "code",
   "execution_count": null,
   "metadata": {
    "colab": {
     "base_uri": "https://localhost:8080/"
    },
    "executionInfo": {
     "elapsed": 449,
     "status": "ok",
     "timestamp": 1679507254086,
     "user": {
      "displayName": "Kim JI",
      "userId": "12048402999669357880"
     },
     "user_tz": -420
    },
    "id": "MztA9_tCM-Y1",
    "outputId": "b9b02048-3619-4cd2-9e33-9de474f44286"
   },
   "outputs": [],
   "source": [
    "dtPredictions.show()"
   ]
  },
  {
   "cell_type": "code",
   "execution_count": null,
   "metadata": {
    "executionInfo": {
     "elapsed": 3,
     "status": "ok",
     "timestamp": 1679507254087,
     "user": {
      "displayName": "Kim JI",
      "userId": "12048402999669357880"
     },
     "user_tz": -420
    },
    "id": "6BdMd5Ts9NpN"
   },
   "outputs": [],
   "source": [
    "dtEvaluator = RegressionEvaluator(labelCol='label', predictionCol='prediction', metricName='rmse')"
   ]
  },
  {
   "cell_type": "code",
   "execution_count": null,
   "metadata": {
    "colab": {
     "base_uri": "https://localhost:8080/"
    },
    "executionInfo": {
     "elapsed": 1447,
     "status": "ok",
     "timestamp": 1679507255531,
     "user": {
      "displayName": "Kim JI",
      "userId": "12048402999669357880"
     },
     "user_tz": -420
    },
    "id": "KaC0qnCR8jtO",
    "outputId": "27c3a443-1523-452d-e7e7-937b655f9cbc"
   },
   "outputs": [],
   "source": [
    "rmse = dtEvaluator.evaluate(dtPredictions)\n",
    "rmse"
   ]
  },
  {
   "cell_type": "code",
   "execution_count": null,
   "metadata": {
    "executionInfo": {
     "elapsed": 4,
     "status": "ok",
     "timestamp": 1679507255532,
     "user": {
      "displayName": "Kim JI",
      "userId": "12048402999669357880"
     },
     "user_tz": -420
    },
    "id": "JCVNtNRQ_j-6"
   },
   "outputs": [],
   "source": []
  },
  {
   "cell_type": "markdown",
   "metadata": {
    "id": "agV-PrVU_qAK"
   },
   "source": [
    "# Random Rain Forrest"
   ]
  },
  {
   "cell_type": "code",
   "execution_count": null,
   "metadata": {
    "executionInfo": {
     "elapsed": 4,
     "status": "ok",
     "timestamp": 1679507255532,
     "user": {
      "displayName": "Kim JI",
      "userId": "12048402999669357880"
     },
     "user_tz": -420
    },
    "id": "sH1lfWlt_spo"
   },
   "outputs": [],
   "source": [
    "from pyspark.ml.regression import RandomForestRegressor\n",
    "from pyspark.ml.evaluation import RegressionEvaluator\n",
    "from pyspark.ml.feature import VectorAssembler"
   ]
  },
  {
   "cell_type": "code",
   "execution_count": null,
   "metadata": {
    "executionInfo": {
     "elapsed": 3,
     "status": "ok",
     "timestamp": 1679507255532,
     "user": {
      "displayName": "Kim JI",
      "userId": "12048402999669357880"
     },
     "user_tz": -420
    },
    "id": "KlZs4Jkp_ubP"
   },
   "outputs": [],
   "source": [
    "rf = RandomForestRegressor(featuresCol='features', labelCol='label')"
   ]
  },
  {
   "cell_type": "code",
   "execution_count": null,
   "metadata": {
    "executionInfo": {
     "elapsed": 5018,
     "status": "ok",
     "timestamp": 1679507260547,
     "user": {
      "displayName": "Kim JI",
      "userId": "12048402999669357880"
     },
     "user_tz": -420
    },
    "id": "44S0rfUv_wok"
   },
   "outputs": [],
   "source": [
    "rfModel = rf.fit(trainDF)"
   ]
  },
  {
   "cell_type": "code",
   "execution_count": null,
   "metadata": {
    "executionInfo": {
     "elapsed": 15,
     "status": "ok",
     "timestamp": 1679507260547,
     "user": {
      "displayName": "Kim JI",
      "userId": "12048402999669357880"
     },
     "user_tz": -420
    },
    "id": "cOv4I3R__yHL"
   },
   "outputs": [],
   "source": [
    "rfPrediction = rfModel.transform(testDF)"
   ]
  },
  {
   "cell_type": "code",
   "execution_count": null,
   "metadata": {
    "executionInfo": {
     "elapsed": 15,
     "status": "ok",
     "timestamp": 1679507260548,
     "user": {
      "displayName": "Kim JI",
      "userId": "12048402999669357880"
     },
     "user_tz": -420
    },
    "id": "rEAFiFcb_zPP"
   },
   "outputs": [],
   "source": [
    "rfpdf = rfPrediction.toPandas()"
   ]
  },
  {
   "cell_type": "code",
   "execution_count": null,
   "metadata": {
    "colab": {
     "base_uri": "https://localhost:8080/"
    },
    "executionInfo": {
     "elapsed": 16,
     "status": "ok",
     "timestamp": 1679507260549,
     "user": {
      "displayName": "Kim JI",
      "userId": "12048402999669357880"
     },
     "user_tz": -420
    },
    "id": "eE_ant_I_0ni",
    "outputId": "863ea6f9-54aa-427c-92cd-5af72643ab91"
   },
   "outputs": [],
   "source": [
    "rfpdf['prediction']"
   ]
  },
  {
   "cell_type": "code",
   "execution_count": null,
   "metadata": {
    "colab": {
     "base_uri": "https://localhost:8080/"
    },
    "executionInfo": {
     "elapsed": 580,
     "status": "ok",
     "timestamp": 1679507261114,
     "user": {
      "displayName": "Kim JI",
      "userId": "12048402999669357880"
     },
     "user_tz": -420
    },
    "id": "1TOz6G7h_2ml",
    "outputId": "f953ab73-21dd-443f-cedb-4c5ab0aa2fbd"
   },
   "outputs": [],
   "source": [
    "rfPrediction.show()"
   ]
  },
  {
   "cell_type": "code",
   "execution_count": null,
   "metadata": {
    "colab": {
     "base_uri": "https://localhost:8080/",
     "height": 0
    },
    "executionInfo": {
     "elapsed": 1970,
     "status": "ok",
     "timestamp": 1679507263082,
     "user": {
      "displayName": "Kim JI",
      "userId": "12048402999669357880"
     },
     "user_tz": -420
    },
    "id": "88Eg6-yg_4cm",
    "outputId": "9348c0c6-ab7f-4e81-bc62-d65e0adc3f56"
   },
   "outputs": [],
   "source": [
    "import matplotlib.pyplot as plt\n",
    "plt.scatter(rfpdf['label'], rfpdf['prediction'])\n",
    "plt.xlabel('Number')\n",
    "plt.ylabel('Prediction')"
   ]
  },
  {
   "cell_type": "code",
   "execution_count": null,
   "metadata": {
    "executionInfo": {
     "elapsed": 4,
     "status": "ok",
     "timestamp": 1679507263082,
     "user": {
      "displayName": "Kim JI",
      "userId": "12048402999669357880"
     },
     "user_tz": -420
    },
    "id": "gb0qBYa5_-JL"
   },
   "outputs": [],
   "source": [
    "dtEvaluator = RegressionEvaluator(labelCol='label', predictionCol='prediction', metricName='rmse')"
   ]
  },
  {
   "cell_type": "code",
   "execution_count": null,
   "metadata": {
    "executionInfo": {
     "elapsed": 623,
     "status": "ok",
     "timestamp": 1679507263701,
     "user": {
      "displayName": "Kim JI",
      "userId": "12048402999669357880"
     },
     "user_tz": -420
    },
    "id": "hUbncNBp__ut"
   },
   "outputs": [],
   "source": [
    "rmse = dtEvaluator.evaluate(rfPrediction)"
   ]
  },
  {
   "cell_type": "code",
   "execution_count": null,
   "metadata": {
    "colab": {
     "base_uri": "https://localhost:8080/"
    },
    "executionInfo": {
     "elapsed": 4,
     "status": "ok",
     "timestamp": 1679507263701,
     "user": {
      "displayName": "Kim JI",
      "userId": "12048402999669357880"
     },
     "user_tz": -420
    },
    "id": "BK5Wnw4BABCK",
    "outputId": "c9e02055-e95b-40f2-e77b-046bd84614d3"
   },
   "outputs": [],
   "source": [
    "rmse"
   ]
  },
  {
   "cell_type": "code",
   "execution_count": null,
   "metadata": {
    "executionInfo": {
     "elapsed": 4,
     "status": "ok",
     "timestamp": 1679507263702,
     "user": {
      "displayName": "Kim JI",
      "userId": "12048402999669357880"
     },
     "user_tz": -420
    },
    "id": "g8GCKUfYAChf"
   },
   "outputs": [],
   "source": []
  }
 ],
 "metadata": {
  "colab": {
   "authorship_tag": "ABX9TyOA6c0LSkHbAd3vrlNxZ86t",
   "collapsed_sections": [
    "IweRMNz67ZNg",
    "agV-PrVU_qAK"
   ],
   "mount_file_id": "1UR7YaSZJv31SFUHeob1xdX2tUZ5Vp9Sf",
   "provenance": [
    {
     "file_id": "1O5CgIIptyOv6DnySbBOinBKoyndS-i3B",
     "timestamp": 1679505595665
    }
   ]
  },
  "kernelspec": {
   "display_name": "Python 3 (ipykernel)",
   "language": "python",
   "name": "python3"
  },
  "language_info": {
   "codemirror_mode": {
    "name": "ipython",
    "version": 3
   },
   "file_extension": ".py",
   "mimetype": "text/x-python",
   "name": "python",
   "nbconvert_exporter": "python",
   "pygments_lexer": "ipython3",
   "version": "3.9.12"
  }
 },
 "nbformat": 4,
 "nbformat_minor": 1
}
