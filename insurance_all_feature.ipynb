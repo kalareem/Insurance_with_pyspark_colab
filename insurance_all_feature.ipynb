{
 "cells": [
  {
   "cell_type": "markdown",
   "metadata": {
    "id": "FH5pVRfMSnRi"
   },
   "source": [
    "# Data Preparation"
   ]
  },
  {
   "cell_type": "code",
   "execution_count": 7,
   "metadata": {
    "colab": {
     "base_uri": "https://localhost:8080/"
    },
    "executionInfo": {
     "elapsed": 5220,
     "status": "ok",
     "timestamp": 1679507217380,
     "user": {
      "displayName": "Kim JI",
      "userId": "12048402999669357880"
     },
     "user_tz": -420
    },
    "id": "YrjJFypGtdVt",
    "outputId": "aab001c5-cef8-427a-e840-b8ce3c94d80f"
   },
   "outputs": [
    {
     "name": "stdout",
     "output_type": "stream",
     "text": [
      "Looking in indexes: https://pypi.org/simple, https://us-python.pkg.dev/colab-wheels/public/simple/\n",
      "Requirement already satisfied: pyspark in /usr/local/lib/python3.9/dist-packages (3.3.2)\n",
      "Requirement already satisfied: py4j==0.10.9.5 in /usr/local/lib/python3.9/dist-packages (from pyspark) (0.10.9.5)\n"
     ]
    }
   ],
   "source": [
    "!pip install pyspark"
   ]
  },
  {
   "cell_type": "code",
   "execution_count": 8,
   "metadata": {
    "executionInfo": {
     "elapsed": 7,
     "status": "ok",
     "timestamp": 1679507217381,
     "user": {
      "displayName": "Kim JI",
      "userId": "12048402999669357880"
     },
     "user_tz": -420
    },
    "id": "5athF25GturM"
   },
   "outputs": [],
   "source": [
    "from pyspark.sql import SparkSession\n",
    "from pyspark import SparkConf, SparkContext\n",
    "\n",
    "spark = SparkSession.builder.master(\"local[*]\").getOrCreate()\n",
    "sc = SparkContext.getOrCreate();"
   ]
  },
  {
   "cell_type": "code",
   "execution_count": 9,
   "metadata": {
    "executionInfo": {
     "elapsed": 6,
     "status": "ok",
     "timestamp": 1679507217381,
     "user": {
      "displayName": "Kim JI",
      "userId": "12048402999669357880"
     },
     "user_tz": -420
    },
    "id": "2qLftPbS1aSH"
   },
   "outputs": [],
   "source": [
    "from pyspark.sql.functions import *\n",
    "from pyspark.ml.feature import VectorAssembler\n",
    "from pyspark.ml.feature import StringIndexer"
   ]
  },
  {
   "cell_type": "code",
   "execution_count": 10,
   "metadata": {
    "executionInfo": {
     "elapsed": 7,
     "status": "ok",
     "timestamp": 1679507217382,
     "user": {
      "displayName": "Kim JI",
      "userId": "12048402999669357880"
     },
     "user_tz": -420
    },
    "id": "8kJHtu3M-8Gt"
   },
   "outputs": [],
   "source": [
    "from pyspark.ml.classification import NaiveBayes\n",
    "from pyspark.ml.evaluation import MulticlassClassificationEvaluator"
   ]
  },
  {
   "cell_type": "code",
   "execution_count": 11,
   "metadata": {
    "executionInfo": {
     "elapsed": 6,
     "status": "ok",
     "timestamp": 1679507217382,
     "user": {
      "displayName": "Kim JI",
      "userId": "12048402999669357880"
     },
     "user_tz": -420
    },
    "id": "E-DBuQH2uIdJ"
   },
   "outputs": [],
   "source": [
    "import pandas as pd\n",
    "import numpy as np"
   ]
  },
  {
   "cell_type": "code",
   "execution_count": 12,
   "metadata": {
    "executionInfo": {
     "elapsed": 9744,
     "status": "ok",
     "timestamp": 1679507227120,
     "user": {
      "displayName": "Kim JI",
      "userId": "12048402999669357880"
     },
     "user_tz": -420
    },
    "id": "r06GHi-ktxiH"
   },
   "outputs": [],
   "source": [
    "ins = spark.read.csv(\"/content/drive/MyDrive/Sample_Data/insurance.csv\", header=True)"
   ]
  },
  {
   "cell_type": "code",
   "execution_count": 13,
   "metadata": {
    "executionInfo": {
     "elapsed": 15,
     "status": "ok",
     "timestamp": 1679507227120,
     "user": {
      "displayName": "Kim JI",
      "userId": "12048402999669357880"
     },
     "user_tz": -420
    },
    "id": "rdgBsIVOt7SM"
   },
   "outputs": [],
   "source": [
    "df = pd.read_csv('/content/drive/MyDrive/Sample_Data/insurance.csv')"
   ]
  },
  {
   "cell_type": "code",
   "execution_count": 14,
   "metadata": {
    "colab": {
     "base_uri": "https://localhost:8080/",
     "height": 0
    },
    "executionInfo": {
     "elapsed": 15,
     "status": "ok",
     "timestamp": 1679507227120,
     "user": {
      "displayName": "Kim JI",
      "userId": "12048402999669357880"
     },
     "user_tz": -420
    },
    "id": "hqdYNFPUuAp8",
    "outputId": "8196b357-44c0-4d5b-a693-9e19df2a6eb0"
   },
   "outputs": [
    {
     "data": {
      "text/html": [
       "\n",
       "  <div id=\"df-66eb4144-0f95-450a-8108-18f27692e1a8\">\n",
       "    <div class=\"colab-df-container\">\n",
       "      <div>\n",
       "<style scoped>\n",
       "    .dataframe tbody tr th:only-of-type {\n",
       "        vertical-align: middle;\n",
       "    }\n",
       "\n",
       "    .dataframe tbody tr th {\n",
       "        vertical-align: top;\n",
       "    }\n",
       "\n",
       "    .dataframe thead th {\n",
       "        text-align: right;\n",
       "    }\n",
       "</style>\n",
       "<table border=\"1\" class=\"dataframe\">\n",
       "  <thead>\n",
       "    <tr style=\"text-align: right;\">\n",
       "      <th></th>\n",
       "      <th>age</th>\n",
       "      <th>sex</th>\n",
       "      <th>bmi</th>\n",
       "      <th>children</th>\n",
       "      <th>smoker</th>\n",
       "      <th>region</th>\n",
       "      <th>expenses</th>\n",
       "    </tr>\n",
       "  </thead>\n",
       "  <tbody>\n",
       "    <tr>\n",
       "      <th>0</th>\n",
       "      <td>19</td>\n",
       "      <td>female</td>\n",
       "      <td>27.9</td>\n",
       "      <td>0</td>\n",
       "      <td>yes</td>\n",
       "      <td>southwest</td>\n",
       "      <td>16884.92</td>\n",
       "    </tr>\n",
       "    <tr>\n",
       "      <th>1</th>\n",
       "      <td>18</td>\n",
       "      <td>male</td>\n",
       "      <td>33.8</td>\n",
       "      <td>1</td>\n",
       "      <td>no</td>\n",
       "      <td>southeast</td>\n",
       "      <td>1725.55</td>\n",
       "    </tr>\n",
       "    <tr>\n",
       "      <th>2</th>\n",
       "      <td>28</td>\n",
       "      <td>male</td>\n",
       "      <td>33.0</td>\n",
       "      <td>3</td>\n",
       "      <td>no</td>\n",
       "      <td>southeast</td>\n",
       "      <td>4449.46</td>\n",
       "    </tr>\n",
       "    <tr>\n",
       "      <th>3</th>\n",
       "      <td>33</td>\n",
       "      <td>male</td>\n",
       "      <td>22.7</td>\n",
       "      <td>0</td>\n",
       "      <td>no</td>\n",
       "      <td>northwest</td>\n",
       "      <td>21984.47</td>\n",
       "    </tr>\n",
       "    <tr>\n",
       "      <th>4</th>\n",
       "      <td>32</td>\n",
       "      <td>male</td>\n",
       "      <td>28.9</td>\n",
       "      <td>0</td>\n",
       "      <td>no</td>\n",
       "      <td>northwest</td>\n",
       "      <td>3866.86</td>\n",
       "    </tr>\n",
       "    <tr>\n",
       "      <th>...</th>\n",
       "      <td>...</td>\n",
       "      <td>...</td>\n",
       "      <td>...</td>\n",
       "      <td>...</td>\n",
       "      <td>...</td>\n",
       "      <td>...</td>\n",
       "      <td>...</td>\n",
       "    </tr>\n",
       "    <tr>\n",
       "      <th>1333</th>\n",
       "      <td>50</td>\n",
       "      <td>male</td>\n",
       "      <td>31.0</td>\n",
       "      <td>3</td>\n",
       "      <td>no</td>\n",
       "      <td>northwest</td>\n",
       "      <td>10600.55</td>\n",
       "    </tr>\n",
       "    <tr>\n",
       "      <th>1334</th>\n",
       "      <td>18</td>\n",
       "      <td>female</td>\n",
       "      <td>31.9</td>\n",
       "      <td>0</td>\n",
       "      <td>no</td>\n",
       "      <td>northeast</td>\n",
       "      <td>2205.98</td>\n",
       "    </tr>\n",
       "    <tr>\n",
       "      <th>1335</th>\n",
       "      <td>18</td>\n",
       "      <td>female</td>\n",
       "      <td>36.9</td>\n",
       "      <td>0</td>\n",
       "      <td>no</td>\n",
       "      <td>southeast</td>\n",
       "      <td>1629.83</td>\n",
       "    </tr>\n",
       "    <tr>\n",
       "      <th>1336</th>\n",
       "      <td>21</td>\n",
       "      <td>female</td>\n",
       "      <td>25.8</td>\n",
       "      <td>0</td>\n",
       "      <td>no</td>\n",
       "      <td>southwest</td>\n",
       "      <td>2007.95</td>\n",
       "    </tr>\n",
       "    <tr>\n",
       "      <th>1337</th>\n",
       "      <td>61</td>\n",
       "      <td>female</td>\n",
       "      <td>29.1</td>\n",
       "      <td>0</td>\n",
       "      <td>yes</td>\n",
       "      <td>northwest</td>\n",
       "      <td>29141.36</td>\n",
       "    </tr>\n",
       "  </tbody>\n",
       "</table>\n",
       "<p>1338 rows × 7 columns</p>\n",
       "</div>\n",
       "      <button class=\"colab-df-convert\" onclick=\"convertToInteractive('df-66eb4144-0f95-450a-8108-18f27692e1a8')\"\n",
       "              title=\"Convert this dataframe to an interactive table.\"\n",
       "              style=\"display:none;\">\n",
       "        \n",
       "  <svg xmlns=\"http://www.w3.org/2000/svg\" height=\"24px\"viewBox=\"0 0 24 24\"\n",
       "       width=\"24px\">\n",
       "    <path d=\"M0 0h24v24H0V0z\" fill=\"none\"/>\n",
       "    <path d=\"M18.56 5.44l.94 2.06.94-2.06 2.06-.94-2.06-.94-.94-2.06-.94 2.06-2.06.94zm-11 1L8.5 8.5l.94-2.06 2.06-.94-2.06-.94L8.5 2.5l-.94 2.06-2.06.94zm10 10l.94 2.06.94-2.06 2.06-.94-2.06-.94-.94-2.06-.94 2.06-2.06.94z\"/><path d=\"M17.41 7.96l-1.37-1.37c-.4-.4-.92-.59-1.43-.59-.52 0-1.04.2-1.43.59L10.3 9.45l-7.72 7.72c-.78.78-.78 2.05 0 2.83L4 21.41c.39.39.9.59 1.41.59.51 0 1.02-.2 1.41-.59l7.78-7.78 2.81-2.81c.8-.78.8-2.07 0-2.86zM5.41 20L4 18.59l7.72-7.72 1.47 1.35L5.41 20z\"/>\n",
       "  </svg>\n",
       "      </button>\n",
       "      \n",
       "  <style>\n",
       "    .colab-df-container {\n",
       "      display:flex;\n",
       "      flex-wrap:wrap;\n",
       "      gap: 12px;\n",
       "    }\n",
       "\n",
       "    .colab-df-convert {\n",
       "      background-color: #E8F0FE;\n",
       "      border: none;\n",
       "      border-radius: 50%;\n",
       "      cursor: pointer;\n",
       "      display: none;\n",
       "      fill: #1967D2;\n",
       "      height: 32px;\n",
       "      padding: 0 0 0 0;\n",
       "      width: 32px;\n",
       "    }\n",
       "\n",
       "    .colab-df-convert:hover {\n",
       "      background-color: #E2EBFA;\n",
       "      box-shadow: 0px 1px 2px rgba(60, 64, 67, 0.3), 0px 1px 3px 1px rgba(60, 64, 67, 0.15);\n",
       "      fill: #174EA6;\n",
       "    }\n",
       "\n",
       "    [theme=dark] .colab-df-convert {\n",
       "      background-color: #3B4455;\n",
       "      fill: #D2E3FC;\n",
       "    }\n",
       "\n",
       "    [theme=dark] .colab-df-convert:hover {\n",
       "      background-color: #434B5C;\n",
       "      box-shadow: 0px 1px 3px 1px rgba(0, 0, 0, 0.15);\n",
       "      filter: drop-shadow(0px 1px 2px rgba(0, 0, 0, 0.3));\n",
       "      fill: #FFFFFF;\n",
       "    }\n",
       "  </style>\n",
       "\n",
       "      <script>\n",
       "        const buttonEl =\n",
       "          document.querySelector('#df-66eb4144-0f95-450a-8108-18f27692e1a8 button.colab-df-convert');\n",
       "        buttonEl.style.display =\n",
       "          google.colab.kernel.accessAllowed ? 'block' : 'none';\n",
       "\n",
       "        async function convertToInteractive(key) {\n",
       "          const element = document.querySelector('#df-66eb4144-0f95-450a-8108-18f27692e1a8');\n",
       "          const dataTable =\n",
       "            await google.colab.kernel.invokeFunction('convertToInteractive',\n",
       "                                                     [key], {});\n",
       "          if (!dataTable) return;\n",
       "\n",
       "          const docLinkHtml = 'Like what you see? Visit the ' +\n",
       "            '<a target=\"_blank\" href=https://colab.research.google.com/notebooks/data_table.ipynb>data table notebook</a>'\n",
       "            + ' to learn more about interactive tables.';\n",
       "          element.innerHTML = '';\n",
       "          dataTable['output_type'] = 'display_data';\n",
       "          await google.colab.output.renderOutput(dataTable, element);\n",
       "          const docLink = document.createElement('div');\n",
       "          docLink.innerHTML = docLinkHtml;\n",
       "          element.appendChild(docLink);\n",
       "        }\n",
       "      </script>\n",
       "    </div>\n",
       "  </div>\n",
       "  "
      ],
      "text/plain": [
       "      age     sex   bmi  children smoker     region  expenses\n",
       "0      19  female  27.9         0    yes  southwest  16884.92\n",
       "1      18    male  33.8         1     no  southeast   1725.55\n",
       "2      28    male  33.0         3     no  southeast   4449.46\n",
       "3      33    male  22.7         0     no  northwest  21984.47\n",
       "4      32    male  28.9         0     no  northwest   3866.86\n",
       "...   ...     ...   ...       ...    ...        ...       ...\n",
       "1333   50    male  31.0         3     no  northwest  10600.55\n",
       "1334   18  female  31.9         0     no  northeast   2205.98\n",
       "1335   18  female  36.9         0     no  southeast   1629.83\n",
       "1336   21  female  25.8         0     no  southwest   2007.95\n",
       "1337   61  female  29.1         0    yes  northwest  29141.36\n",
       "\n",
       "[1338 rows x 7 columns]"
      ]
     },
     "execution_count": 14,
     "metadata": {},
     "output_type": "execute_result"
    }
   ],
   "source": [
    "df"
   ]
  },
  {
   "cell_type": "code",
   "execution_count": 15,
   "metadata": {
    "colab": {
     "base_uri": "https://localhost:8080/"
    },
    "executionInfo": {
     "elapsed": 14,
     "status": "ok",
     "timestamp": 1679507227121,
     "user": {
      "displayName": "Kim JI",
      "userId": "12048402999669357880"
     },
     "user_tz": -420
    },
    "id": "4mKyYzUMuMA1",
    "outputId": "221ae6a1-28c7-49ab-c115-09ec0ef3830b"
   },
   "outputs": [
    {
     "name": "stdout",
     "output_type": "stream",
     "text": [
      "<class 'pandas.core.frame.DataFrame'>\n",
      "RangeIndex: 1338 entries, 0 to 1337\n",
      "Data columns (total 7 columns):\n",
      " #   Column    Non-Null Count  Dtype  \n",
      "---  ------    --------------  -----  \n",
      " 0   age       1338 non-null   int64  \n",
      " 1   sex       1338 non-null   object \n",
      " 2   bmi       1338 non-null   float64\n",
      " 3   children  1338 non-null   int64  \n",
      " 4   smoker    1338 non-null   object \n",
      " 5   region    1338 non-null   object \n",
      " 6   expenses  1338 non-null   float64\n",
      "dtypes: float64(2), int64(2), object(3)\n",
      "memory usage: 73.3+ KB\n"
     ]
    }
   ],
   "source": [
    "df.info()"
   ]
  },
  {
   "cell_type": "markdown",
   "metadata": {
    "id": "VeIwy7CNwWxB"
   },
   "source": [
    "femail = 0 , male = 1"
   ]
  },
  {
   "cell_type": "code",
   "execution_count": 16,
   "metadata": {
    "executionInfo": {
     "elapsed": 13,
     "status": "ok",
     "timestamp": 1679507227121,
     "user": {
      "displayName": "Kim JI",
      "userId": "12048402999669357880"
     },
     "user_tz": -420
    },
    "id": "1AFWVxTeudlU"
   },
   "outputs": [],
   "source": [
    "df['sex'] = np.where(df['sex'] == \"female\", 0, 1)"
   ]
  },
  {
   "cell_type": "code",
   "execution_count": 17,
   "metadata": {
    "executionInfo": {
     "elapsed": 13,
     "status": "ok",
     "timestamp": 1679507227121,
     "user": {
      "displayName": "Kim JI",
      "userId": "12048402999669357880"
     },
     "user_tz": -420
    },
    "id": "EJRtVCDFullM"
   },
   "outputs": [],
   "source": [
    "df['smoker'] = np.where(df['smoker'] == 'no', 0, 1)"
   ]
  },
  {
   "cell_type": "code",
   "execution_count": 18,
   "metadata": {
    "colab": {
     "base_uri": "https://localhost:8080/",
     "height": 0
    },
    "executionInfo": {
     "elapsed": 12,
     "status": "ok",
     "timestamp": 1679507227121,
     "user": {
      "displayName": "Kim JI",
      "userId": "12048402999669357880"
     },
     "user_tz": -420
    },
    "id": "XzMNZNqIwaLi",
    "outputId": "b1c8bf5a-64d7-46c1-fc93-8eb5403e9a0c"
   },
   "outputs": [
    {
     "data": {
      "text/html": [
       "\n",
       "  <div id=\"df-15ad7df7-d5cd-473a-a1fb-9631aa83808a\">\n",
       "    <div class=\"colab-df-container\">\n",
       "      <div>\n",
       "<style scoped>\n",
       "    .dataframe tbody tr th:only-of-type {\n",
       "        vertical-align: middle;\n",
       "    }\n",
       "\n",
       "    .dataframe tbody tr th {\n",
       "        vertical-align: top;\n",
       "    }\n",
       "\n",
       "    .dataframe thead th {\n",
       "        text-align: right;\n",
       "    }\n",
       "</style>\n",
       "<table border=\"1\" class=\"dataframe\">\n",
       "  <thead>\n",
       "    <tr style=\"text-align: right;\">\n",
       "      <th></th>\n",
       "      <th>age</th>\n",
       "      <th>sex</th>\n",
       "      <th>bmi</th>\n",
       "      <th>children</th>\n",
       "      <th>smoker</th>\n",
       "      <th>region</th>\n",
       "      <th>expenses</th>\n",
       "    </tr>\n",
       "  </thead>\n",
       "  <tbody>\n",
       "    <tr>\n",
       "      <th>0</th>\n",
       "      <td>19</td>\n",
       "      <td>0</td>\n",
       "      <td>27.9</td>\n",
       "      <td>0</td>\n",
       "      <td>1</td>\n",
       "      <td>southwest</td>\n",
       "      <td>16884.92</td>\n",
       "    </tr>\n",
       "    <tr>\n",
       "      <th>1</th>\n",
       "      <td>18</td>\n",
       "      <td>1</td>\n",
       "      <td>33.8</td>\n",
       "      <td>1</td>\n",
       "      <td>0</td>\n",
       "      <td>southeast</td>\n",
       "      <td>1725.55</td>\n",
       "    </tr>\n",
       "    <tr>\n",
       "      <th>2</th>\n",
       "      <td>28</td>\n",
       "      <td>1</td>\n",
       "      <td>33.0</td>\n",
       "      <td>3</td>\n",
       "      <td>0</td>\n",
       "      <td>southeast</td>\n",
       "      <td>4449.46</td>\n",
       "    </tr>\n",
       "    <tr>\n",
       "      <th>3</th>\n",
       "      <td>33</td>\n",
       "      <td>1</td>\n",
       "      <td>22.7</td>\n",
       "      <td>0</td>\n",
       "      <td>0</td>\n",
       "      <td>northwest</td>\n",
       "      <td>21984.47</td>\n",
       "    </tr>\n",
       "    <tr>\n",
       "      <th>4</th>\n",
       "      <td>32</td>\n",
       "      <td>1</td>\n",
       "      <td>28.9</td>\n",
       "      <td>0</td>\n",
       "      <td>0</td>\n",
       "      <td>northwest</td>\n",
       "      <td>3866.86</td>\n",
       "    </tr>\n",
       "    <tr>\n",
       "      <th>...</th>\n",
       "      <td>...</td>\n",
       "      <td>...</td>\n",
       "      <td>...</td>\n",
       "      <td>...</td>\n",
       "      <td>...</td>\n",
       "      <td>...</td>\n",
       "      <td>...</td>\n",
       "    </tr>\n",
       "    <tr>\n",
       "      <th>1333</th>\n",
       "      <td>50</td>\n",
       "      <td>1</td>\n",
       "      <td>31.0</td>\n",
       "      <td>3</td>\n",
       "      <td>0</td>\n",
       "      <td>northwest</td>\n",
       "      <td>10600.55</td>\n",
       "    </tr>\n",
       "    <tr>\n",
       "      <th>1334</th>\n",
       "      <td>18</td>\n",
       "      <td>0</td>\n",
       "      <td>31.9</td>\n",
       "      <td>0</td>\n",
       "      <td>0</td>\n",
       "      <td>northeast</td>\n",
       "      <td>2205.98</td>\n",
       "    </tr>\n",
       "    <tr>\n",
       "      <th>1335</th>\n",
       "      <td>18</td>\n",
       "      <td>0</td>\n",
       "      <td>36.9</td>\n",
       "      <td>0</td>\n",
       "      <td>0</td>\n",
       "      <td>southeast</td>\n",
       "      <td>1629.83</td>\n",
       "    </tr>\n",
       "    <tr>\n",
       "      <th>1336</th>\n",
       "      <td>21</td>\n",
       "      <td>0</td>\n",
       "      <td>25.8</td>\n",
       "      <td>0</td>\n",
       "      <td>0</td>\n",
       "      <td>southwest</td>\n",
       "      <td>2007.95</td>\n",
       "    </tr>\n",
       "    <tr>\n",
       "      <th>1337</th>\n",
       "      <td>61</td>\n",
       "      <td>0</td>\n",
       "      <td>29.1</td>\n",
       "      <td>0</td>\n",
       "      <td>1</td>\n",
       "      <td>northwest</td>\n",
       "      <td>29141.36</td>\n",
       "    </tr>\n",
       "  </tbody>\n",
       "</table>\n",
       "<p>1338 rows × 7 columns</p>\n",
       "</div>\n",
       "      <button class=\"colab-df-convert\" onclick=\"convertToInteractive('df-15ad7df7-d5cd-473a-a1fb-9631aa83808a')\"\n",
       "              title=\"Convert this dataframe to an interactive table.\"\n",
       "              style=\"display:none;\">\n",
       "        \n",
       "  <svg xmlns=\"http://www.w3.org/2000/svg\" height=\"24px\"viewBox=\"0 0 24 24\"\n",
       "       width=\"24px\">\n",
       "    <path d=\"M0 0h24v24H0V0z\" fill=\"none\"/>\n",
       "    <path d=\"M18.56 5.44l.94 2.06.94-2.06 2.06-.94-2.06-.94-.94-2.06-.94 2.06-2.06.94zm-11 1L8.5 8.5l.94-2.06 2.06-.94-2.06-.94L8.5 2.5l-.94 2.06-2.06.94zm10 10l.94 2.06.94-2.06 2.06-.94-2.06-.94-.94-2.06-.94 2.06-2.06.94z\"/><path d=\"M17.41 7.96l-1.37-1.37c-.4-.4-.92-.59-1.43-.59-.52 0-1.04.2-1.43.59L10.3 9.45l-7.72 7.72c-.78.78-.78 2.05 0 2.83L4 21.41c.39.39.9.59 1.41.59.51 0 1.02-.2 1.41-.59l7.78-7.78 2.81-2.81c.8-.78.8-2.07 0-2.86zM5.41 20L4 18.59l7.72-7.72 1.47 1.35L5.41 20z\"/>\n",
       "  </svg>\n",
       "      </button>\n",
       "      \n",
       "  <style>\n",
       "    .colab-df-container {\n",
       "      display:flex;\n",
       "      flex-wrap:wrap;\n",
       "      gap: 12px;\n",
       "    }\n",
       "\n",
       "    .colab-df-convert {\n",
       "      background-color: #E8F0FE;\n",
       "      border: none;\n",
       "      border-radius: 50%;\n",
       "      cursor: pointer;\n",
       "      display: none;\n",
       "      fill: #1967D2;\n",
       "      height: 32px;\n",
       "      padding: 0 0 0 0;\n",
       "      width: 32px;\n",
       "    }\n",
       "\n",
       "    .colab-df-convert:hover {\n",
       "      background-color: #E2EBFA;\n",
       "      box-shadow: 0px 1px 2px rgba(60, 64, 67, 0.3), 0px 1px 3px 1px rgba(60, 64, 67, 0.15);\n",
       "      fill: #174EA6;\n",
       "    }\n",
       "\n",
       "    [theme=dark] .colab-df-convert {\n",
       "      background-color: #3B4455;\n",
       "      fill: #D2E3FC;\n",
       "    }\n",
       "\n",
       "    [theme=dark] .colab-df-convert:hover {\n",
       "      background-color: #434B5C;\n",
       "      box-shadow: 0px 1px 3px 1px rgba(0, 0, 0, 0.15);\n",
       "      filter: drop-shadow(0px 1px 2px rgba(0, 0, 0, 0.3));\n",
       "      fill: #FFFFFF;\n",
       "    }\n",
       "  </style>\n",
       "\n",
       "      <script>\n",
       "        const buttonEl =\n",
       "          document.querySelector('#df-15ad7df7-d5cd-473a-a1fb-9631aa83808a button.colab-df-convert');\n",
       "        buttonEl.style.display =\n",
       "          google.colab.kernel.accessAllowed ? 'block' : 'none';\n",
       "\n",
       "        async function convertToInteractive(key) {\n",
       "          const element = document.querySelector('#df-15ad7df7-d5cd-473a-a1fb-9631aa83808a');\n",
       "          const dataTable =\n",
       "            await google.colab.kernel.invokeFunction('convertToInteractive',\n",
       "                                                     [key], {});\n",
       "          if (!dataTable) return;\n",
       "\n",
       "          const docLinkHtml = 'Like what you see? Visit the ' +\n",
       "            '<a target=\"_blank\" href=https://colab.research.google.com/notebooks/data_table.ipynb>data table notebook</a>'\n",
       "            + ' to learn more about interactive tables.';\n",
       "          element.innerHTML = '';\n",
       "          dataTable['output_type'] = 'display_data';\n",
       "          await google.colab.output.renderOutput(dataTable, element);\n",
       "          const docLink = document.createElement('div');\n",
       "          docLink.innerHTML = docLinkHtml;\n",
       "          element.appendChild(docLink);\n",
       "        }\n",
       "      </script>\n",
       "    </div>\n",
       "  </div>\n",
       "  "
      ],
      "text/plain": [
       "      age  sex   bmi  children  smoker     region  expenses\n",
       "0      19    0  27.9         0       1  southwest  16884.92\n",
       "1      18    1  33.8         1       0  southeast   1725.55\n",
       "2      28    1  33.0         3       0  southeast   4449.46\n",
       "3      33    1  22.7         0       0  northwest  21984.47\n",
       "4      32    1  28.9         0       0  northwest   3866.86\n",
       "...   ...  ...   ...       ...     ...        ...       ...\n",
       "1333   50    1  31.0         3       0  northwest  10600.55\n",
       "1334   18    0  31.9         0       0  northeast   2205.98\n",
       "1335   18    0  36.9         0       0  southeast   1629.83\n",
       "1336   21    0  25.8         0       0  southwest   2007.95\n",
       "1337   61    0  29.1         0       1  northwest  29141.36\n",
       "\n",
       "[1338 rows x 7 columns]"
      ]
     },
     "execution_count": 18,
     "metadata": {},
     "output_type": "execute_result"
    }
   ],
   "source": [
    "df"
   ]
  },
  {
   "cell_type": "code",
   "execution_count": 19,
   "metadata": {
    "colab": {
     "base_uri": "https://localhost:8080/",
     "height": 0
    },
    "executionInfo": {
     "elapsed": 10,
     "status": "ok",
     "timestamp": 1679507227121,
     "user": {
      "displayName": "Kim JI",
      "userId": "12048402999669357880"
     },
     "user_tz": -420
    },
    "id": "Nm8vHk0pwo-n",
    "outputId": "6668a890-b510-4b79-d2c5-ed17993cd7cb"
   },
   "outputs": [
    {
     "data": {
      "text/html": [
       "\n",
       "  <div id=\"df-c0bc8b88-bb09-4e09-adde-ea374ffb4aff\">\n",
       "    <div class=\"colab-df-container\">\n",
       "      <div>\n",
       "<style scoped>\n",
       "    .dataframe tbody tr th:only-of-type {\n",
       "        vertical-align: middle;\n",
       "    }\n",
       "\n",
       "    .dataframe tbody tr th {\n",
       "        vertical-align: top;\n",
       "    }\n",
       "\n",
       "    .dataframe thead th {\n",
       "        text-align: right;\n",
       "    }\n",
       "</style>\n",
       "<table border=\"1\" class=\"dataframe\">\n",
       "  <thead>\n",
       "    <tr style=\"text-align: right;\">\n",
       "      <th></th>\n",
       "      <th>age</th>\n",
       "      <th>sex</th>\n",
       "      <th>bmi</th>\n",
       "      <th>children</th>\n",
       "      <th>smoker</th>\n",
       "      <th>region</th>\n",
       "      <th>expenses</th>\n",
       "    </tr>\n",
       "  </thead>\n",
       "  <tbody>\n",
       "    <tr>\n",
       "      <th>0</th>\n",
       "      <td>19</td>\n",
       "      <td>0</td>\n",
       "      <td>27.9</td>\n",
       "      <td>0</td>\n",
       "      <td>1</td>\n",
       "      <td>0</td>\n",
       "      <td>16884.92</td>\n",
       "    </tr>\n",
       "    <tr>\n",
       "      <th>1</th>\n",
       "      <td>18</td>\n",
       "      <td>1</td>\n",
       "      <td>33.8</td>\n",
       "      <td>1</td>\n",
       "      <td>0</td>\n",
       "      <td>1</td>\n",
       "      <td>1725.55</td>\n",
       "    </tr>\n",
       "    <tr>\n",
       "      <th>2</th>\n",
       "      <td>28</td>\n",
       "      <td>1</td>\n",
       "      <td>33.0</td>\n",
       "      <td>3</td>\n",
       "      <td>0</td>\n",
       "      <td>1</td>\n",
       "      <td>4449.46</td>\n",
       "    </tr>\n",
       "    <tr>\n",
       "      <th>3</th>\n",
       "      <td>33</td>\n",
       "      <td>1</td>\n",
       "      <td>22.7</td>\n",
       "      <td>0</td>\n",
       "      <td>0</td>\n",
       "      <td>2</td>\n",
       "      <td>21984.47</td>\n",
       "    </tr>\n",
       "    <tr>\n",
       "      <th>4</th>\n",
       "      <td>32</td>\n",
       "      <td>1</td>\n",
       "      <td>28.9</td>\n",
       "      <td>0</td>\n",
       "      <td>0</td>\n",
       "      <td>2</td>\n",
       "      <td>3866.86</td>\n",
       "    </tr>\n",
       "    <tr>\n",
       "      <th>...</th>\n",
       "      <td>...</td>\n",
       "      <td>...</td>\n",
       "      <td>...</td>\n",
       "      <td>...</td>\n",
       "      <td>...</td>\n",
       "      <td>...</td>\n",
       "      <td>...</td>\n",
       "    </tr>\n",
       "    <tr>\n",
       "      <th>1333</th>\n",
       "      <td>50</td>\n",
       "      <td>1</td>\n",
       "      <td>31.0</td>\n",
       "      <td>3</td>\n",
       "      <td>0</td>\n",
       "      <td>2</td>\n",
       "      <td>10600.55</td>\n",
       "    </tr>\n",
       "    <tr>\n",
       "      <th>1334</th>\n",
       "      <td>18</td>\n",
       "      <td>0</td>\n",
       "      <td>31.9</td>\n",
       "      <td>0</td>\n",
       "      <td>0</td>\n",
       "      <td>3</td>\n",
       "      <td>2205.98</td>\n",
       "    </tr>\n",
       "    <tr>\n",
       "      <th>1335</th>\n",
       "      <td>18</td>\n",
       "      <td>0</td>\n",
       "      <td>36.9</td>\n",
       "      <td>0</td>\n",
       "      <td>0</td>\n",
       "      <td>1</td>\n",
       "      <td>1629.83</td>\n",
       "    </tr>\n",
       "    <tr>\n",
       "      <th>1336</th>\n",
       "      <td>21</td>\n",
       "      <td>0</td>\n",
       "      <td>25.8</td>\n",
       "      <td>0</td>\n",
       "      <td>0</td>\n",
       "      <td>0</td>\n",
       "      <td>2007.95</td>\n",
       "    </tr>\n",
       "    <tr>\n",
       "      <th>1337</th>\n",
       "      <td>61</td>\n",
       "      <td>0</td>\n",
       "      <td>29.1</td>\n",
       "      <td>0</td>\n",
       "      <td>1</td>\n",
       "      <td>2</td>\n",
       "      <td>29141.36</td>\n",
       "    </tr>\n",
       "  </tbody>\n",
       "</table>\n",
       "<p>1338 rows × 7 columns</p>\n",
       "</div>\n",
       "      <button class=\"colab-df-convert\" onclick=\"convertToInteractive('df-c0bc8b88-bb09-4e09-adde-ea374ffb4aff')\"\n",
       "              title=\"Convert this dataframe to an interactive table.\"\n",
       "              style=\"display:none;\">\n",
       "        \n",
       "  <svg xmlns=\"http://www.w3.org/2000/svg\" height=\"24px\"viewBox=\"0 0 24 24\"\n",
       "       width=\"24px\">\n",
       "    <path d=\"M0 0h24v24H0V0z\" fill=\"none\"/>\n",
       "    <path d=\"M18.56 5.44l.94 2.06.94-2.06 2.06-.94-2.06-.94-.94-2.06-.94 2.06-2.06.94zm-11 1L8.5 8.5l.94-2.06 2.06-.94-2.06-.94L8.5 2.5l-.94 2.06-2.06.94zm10 10l.94 2.06.94-2.06 2.06-.94-2.06-.94-.94-2.06-.94 2.06-2.06.94z\"/><path d=\"M17.41 7.96l-1.37-1.37c-.4-.4-.92-.59-1.43-.59-.52 0-1.04.2-1.43.59L10.3 9.45l-7.72 7.72c-.78.78-.78 2.05 0 2.83L4 21.41c.39.39.9.59 1.41.59.51 0 1.02-.2 1.41-.59l7.78-7.78 2.81-2.81c.8-.78.8-2.07 0-2.86zM5.41 20L4 18.59l7.72-7.72 1.47 1.35L5.41 20z\"/>\n",
       "  </svg>\n",
       "      </button>\n",
       "      \n",
       "  <style>\n",
       "    .colab-df-container {\n",
       "      display:flex;\n",
       "      flex-wrap:wrap;\n",
       "      gap: 12px;\n",
       "    }\n",
       "\n",
       "    .colab-df-convert {\n",
       "      background-color: #E8F0FE;\n",
       "      border: none;\n",
       "      border-radius: 50%;\n",
       "      cursor: pointer;\n",
       "      display: none;\n",
       "      fill: #1967D2;\n",
       "      height: 32px;\n",
       "      padding: 0 0 0 0;\n",
       "      width: 32px;\n",
       "    }\n",
       "\n",
       "    .colab-df-convert:hover {\n",
       "      background-color: #E2EBFA;\n",
       "      box-shadow: 0px 1px 2px rgba(60, 64, 67, 0.3), 0px 1px 3px 1px rgba(60, 64, 67, 0.15);\n",
       "      fill: #174EA6;\n",
       "    }\n",
       "\n",
       "    [theme=dark] .colab-df-convert {\n",
       "      background-color: #3B4455;\n",
       "      fill: #D2E3FC;\n",
       "    }\n",
       "\n",
       "    [theme=dark] .colab-df-convert:hover {\n",
       "      background-color: #434B5C;\n",
       "      box-shadow: 0px 1px 3px 1px rgba(0, 0, 0, 0.15);\n",
       "      filter: drop-shadow(0px 1px 2px rgba(0, 0, 0, 0.3));\n",
       "      fill: #FFFFFF;\n",
       "    }\n",
       "  </style>\n",
       "\n",
       "      <script>\n",
       "        const buttonEl =\n",
       "          document.querySelector('#df-c0bc8b88-bb09-4e09-adde-ea374ffb4aff button.colab-df-convert');\n",
       "        buttonEl.style.display =\n",
       "          google.colab.kernel.accessAllowed ? 'block' : 'none';\n",
       "\n",
       "        async function convertToInteractive(key) {\n",
       "          const element = document.querySelector('#df-c0bc8b88-bb09-4e09-adde-ea374ffb4aff');\n",
       "          const dataTable =\n",
       "            await google.colab.kernel.invokeFunction('convertToInteractive',\n",
       "                                                     [key], {});\n",
       "          if (!dataTable) return;\n",
       "\n",
       "          const docLinkHtml = 'Like what you see? Visit the ' +\n",
       "            '<a target=\"_blank\" href=https://colab.research.google.com/notebooks/data_table.ipynb>data table notebook</a>'\n",
       "            + ' to learn more about interactive tables.';\n",
       "          element.innerHTML = '';\n",
       "          dataTable['output_type'] = 'display_data';\n",
       "          await google.colab.output.renderOutput(dataTable, element);\n",
       "          const docLink = document.createElement('div');\n",
       "          docLink.innerHTML = docLinkHtml;\n",
       "          element.appendChild(docLink);\n",
       "        }\n",
       "      </script>\n",
       "    </div>\n",
       "  </div>\n",
       "  "
      ],
      "text/plain": [
       "      age  sex   bmi  children  smoker region  expenses\n",
       "0      19    0  27.9         0       1      0  16884.92\n",
       "1      18    1  33.8         1       0      1   1725.55\n",
       "2      28    1  33.0         3       0      1   4449.46\n",
       "3      33    1  22.7         0       0      2  21984.47\n",
       "4      32    1  28.9         0       0      2   3866.86\n",
       "...   ...  ...   ...       ...     ...    ...       ...\n",
       "1333   50    1  31.0         3       0      2  10600.55\n",
       "1334   18    0  31.9         0       0      3   2205.98\n",
       "1335   18    0  36.9         0       0      1   1629.83\n",
       "1336   21    0  25.8         0       0      0   2007.95\n",
       "1337   61    0  29.1         0       1      2  29141.36\n",
       "\n",
       "[1338 rows x 7 columns]"
      ]
     },
     "execution_count": 19,
     "metadata": {},
     "output_type": "execute_result"
    }
   ],
   "source": [
    "df.loc[df['region'] == 'southwest', 'region'] = 0\n",
    "df.loc[df['region'] == 'southeast', 'region'] = 1\n",
    "df.loc[df['region'] == 'northwest', 'region'] = 2\n",
    "df.loc[df['region'] == 'northeast', 'region'] = 3\n",
    "df"
   ]
  },
  {
   "cell_type": "code",
   "execution_count": 20,
   "metadata": {
    "executionInfo": {
     "elapsed": 11,
     "status": "ok",
     "timestamp": 1679507227122,
     "user": {
      "displayName": "Kim JI",
      "userId": "12048402999669357880"
     },
     "user_tz": -420
    },
    "id": "SK2u60adxRT_"
   },
   "outputs": [],
   "source": [
    "df['label'] = df['expenses']"
   ]
  },
  {
   "cell_type": "code",
   "execution_count": 21,
   "metadata": {
    "executionInfo": {
     "elapsed": 10,
     "status": "ok",
     "timestamp": 1679507227122,
     "user": {
      "displayName": "Kim JI",
      "userId": "12048402999669357880"
     },
     "user_tz": -420
    },
    "id": "KaXPedfRxe74"
   },
   "outputs": [],
   "source": [
    "from pyspark.ml.regression import LinearRegression"
   ]
  },
  {
   "cell_type": "code",
   "execution_count": 22,
   "metadata": {
    "colab": {
     "base_uri": "https://localhost:8080/"
    },
    "executionInfo": {
     "elapsed": 2567,
     "status": "ok",
     "timestamp": 1679507229679,
     "user": {
      "displayName": "Kim JI",
      "userId": "12048402999669357880"
     },
     "user_tz": -420
    },
    "id": "WH-Cakf3z-iZ",
    "outputId": "8b535170-4de2-44de-bab2-d924c745c0d5"
   },
   "outputs": [
    {
     "name": "stdout",
     "output_type": "stream",
     "text": [
      "+---+---+----+--------+------+------+--------+--------+\n",
      "|age|sex| bmi|children|smoker|region|expenses|   label|\n",
      "+---+---+----+--------+------+------+--------+--------+\n",
      "| 19|  0|27.9|       0|     1|     0|16884.92|16884.92|\n",
      "| 18|  1|33.8|       1|     0|     1| 1725.55| 1725.55|\n",
      "| 28|  1|33.0|       3|     0|     1| 4449.46| 4449.46|\n",
      "| 33|  1|22.7|       0|     0|     2|21984.47|21984.47|\n",
      "| 32|  1|28.9|       0|     0|     2| 3866.86| 3866.86|\n",
      "| 31|  0|25.7|       0|     0|     1| 3756.62| 3756.62|\n",
      "| 46|  0|33.4|       1|     0|     1| 8240.59| 8240.59|\n",
      "| 37|  0|27.7|       3|     0|     2| 7281.51| 7281.51|\n",
      "| 37|  1|29.8|       2|     0|     3| 6406.41| 6406.41|\n",
      "| 60|  0|25.8|       0|     0|     2|28923.14|28923.14|\n",
      "| 25|  1|26.2|       0|     0|     3| 2721.32| 2721.32|\n",
      "| 62|  0|26.3|       0|     1|     1|27808.73|27808.73|\n",
      "| 23|  1|34.4|       0|     0|     0| 1826.84| 1826.84|\n",
      "| 56|  0|39.8|       0|     0|     1|11090.72|11090.72|\n",
      "| 27|  1|42.1|       0|     1|     1|39611.76|39611.76|\n",
      "| 19|  1|24.6|       1|     0|     0| 1837.24| 1837.24|\n",
      "| 52|  0|30.8|       1|     0|     3|10797.34|10797.34|\n",
      "| 23|  1|23.8|       0|     0|     3| 2395.17| 2395.17|\n",
      "| 56|  1|40.3|       0|     0|     0|10602.39|10602.39|\n",
      "| 30|  1|35.3|       0|     1|     0|36837.47|36837.47|\n",
      "+---+---+----+--------+------+------+--------+--------+\n",
      "only showing top 20 rows\n",
      "\n"
     ]
    }
   ],
   "source": [
    "insDF = spark.createDataFrame(df)\n",
    "insDF.show()"
   ]
  },
  {
   "cell_type": "code",
   "execution_count": 23,
   "metadata": {
    "executionInfo": {
     "elapsed": 12,
     "status": "ok",
     "timestamp": 1679507229680,
     "user": {
      "displayName": "Kim JI",
      "userId": "12048402999669357880"
     },
     "user_tz": -420
    },
    "id": "xJE0MUSP1h7K"
   },
   "outputs": [],
   "source": [
    "vectorAssembler = VectorAssembler(inputCols=['age','sex','bmi','children','smoker','region'], outputCol='features')"
   ]
  },
  {
   "cell_type": "code",
   "execution_count": 24,
   "metadata": {
    "colab": {
     "base_uri": "https://localhost:8080/"
    },
    "executionInfo": {
     "elapsed": 1686,
     "status": "ok",
     "timestamp": 1679507231354,
     "user": {
      "displayName": "Kim JI",
      "userId": "12048402999669357880"
     },
     "user_tz": -420
    },
    "id": "95jp0111187l",
    "outputId": "ebabedcf-1fa0-4358-bdfa-5660cf978cfe"
   },
   "outputs": [
    {
     "name": "stdout",
     "output_type": "stream",
     "text": [
      "+---+---+----+--------+------+------+--------+--------+--------------------+\n",
      "|age|sex| bmi|children|smoker|region|expenses|   label|            features|\n",
      "+---+---+----+--------+------+------+--------+--------+--------------------+\n",
      "| 19|  0|27.9|       0|     1|     0|16884.92|16884.92|[19.0,0.0,27.9,0....|\n",
      "| 18|  1|33.8|       1|     0|     1| 1725.55| 1725.55|[18.0,1.0,33.8,1....|\n",
      "| 28|  1|33.0|       3|     0|     1| 4449.46| 4449.46|[28.0,1.0,33.0,3....|\n",
      "| 33|  1|22.7|       0|     0|     2|21984.47|21984.47|[33.0,1.0,22.7,0....|\n",
      "| 32|  1|28.9|       0|     0|     2| 3866.86| 3866.86|[32.0,1.0,28.9,0....|\n",
      "| 31|  0|25.7|       0|     0|     1| 3756.62| 3756.62|[31.0,0.0,25.7,0....|\n",
      "| 46|  0|33.4|       1|     0|     1| 8240.59| 8240.59|[46.0,0.0,33.4,1....|\n",
      "| 37|  0|27.7|       3|     0|     2| 7281.51| 7281.51|[37.0,0.0,27.7,3....|\n",
      "| 37|  1|29.8|       2|     0|     3| 6406.41| 6406.41|[37.0,1.0,29.8,2....|\n",
      "| 60|  0|25.8|       0|     0|     2|28923.14|28923.14|[60.0,0.0,25.8,0....|\n",
      "| 25|  1|26.2|       0|     0|     3| 2721.32| 2721.32|[25.0,1.0,26.2,0....|\n",
      "| 62|  0|26.3|       0|     1|     1|27808.73|27808.73|[62.0,0.0,26.3,0....|\n",
      "| 23|  1|34.4|       0|     0|     0| 1826.84| 1826.84|[23.0,1.0,34.4,0....|\n",
      "| 56|  0|39.8|       0|     0|     1|11090.72|11090.72|[56.0,0.0,39.8,0....|\n",
      "| 27|  1|42.1|       0|     1|     1|39611.76|39611.76|[27.0,1.0,42.1,0....|\n",
      "| 19|  1|24.6|       1|     0|     0| 1837.24| 1837.24|[19.0,1.0,24.6,1....|\n",
      "| 52|  0|30.8|       1|     0|     3|10797.34|10797.34|[52.0,0.0,30.8,1....|\n",
      "| 23|  1|23.8|       0|     0|     3| 2395.17| 2395.17|[23.0,1.0,23.8,0....|\n",
      "| 56|  1|40.3|       0|     0|     0|10602.39|10602.39|[56.0,1.0,40.3,0....|\n",
      "| 30|  1|35.3|       0|     1|     0|36837.47|36837.47|[30.0,1.0,35.3,0....|\n",
      "+---+---+----+--------+------+------+--------+--------+--------------------+\n",
      "only showing top 20 rows\n",
      "\n"
     ]
    }
   ],
   "source": [
    "vinsDF = vectorAssembler.transform(insDF)\n",
    "vinsDF.show()"
   ]
  },
  {
   "cell_type": "code",
   "execution_count": 25,
   "metadata": {
    "executionInfo": {
     "elapsed": 5,
     "status": "ok",
     "timestamp": 1679507231355,
     "user": {
      "displayName": "Kim JI",
      "userId": "12048402999669357880"
     },
     "user_tz": -420
    },
    "id": "F-2HPyPN18-5"
   },
   "outputs": [],
   "source": [
    "#indexer = StringIndexer(inputCol='expenses', outputCol='label')\n",
    "#ivinsDF = indexer.fit(vinsDF).transform(vinsDF)\n",
    "#ivinsDF.show()"
   ]
  },
  {
   "cell_type": "code",
   "execution_count": 26,
   "metadata": {
    "executionInfo": {
     "elapsed": 5,
     "status": "ok",
     "timestamp": 1679507231355,
     "user": {
      "displayName": "Kim JI",
      "userId": "12048402999669357880"
     },
     "user_tz": -420
    },
    "id": "El6VvnRQza70"
   },
   "outputs": [],
   "source": [
    "splits = vinsDF.randomSplit([0.7,0.3],1)\n",
    "trainDF = splits[0]\n",
    "testDF = splits[1]"
   ]
  },
  {
   "cell_type": "code",
   "execution_count": 27,
   "metadata": {
    "colab": {
     "base_uri": "https://localhost:8080/"
    },
    "executionInfo": {
     "elapsed": 2511,
     "status": "ok",
     "timestamp": 1679507233862,
     "user": {
      "displayName": "Kim JI",
      "userId": "12048402999669357880"
     },
     "user_tz": -420
    },
    "id": "QWYr9YKL3-mI",
    "outputId": "240f4285-8273-41f7-b7c6-8b24c980e40f"
   },
   "outputs": [
    {
     "name": "stdout",
     "output_type": "stream",
     "text": [
      "+---+---+----+--------+------+------+--------+--------+--------------------+\n",
      "|age|sex| bmi|children|smoker|region|expenses|   label|            features|\n",
      "+---+---+----+--------+------+------+--------+--------+--------------------+\n",
      "| 18|  0|20.8|       0|     0|     1| 1607.51| 1607.51|[18.0,0.0,20.8,0....|\n",
      "| 18|  0|24.1|       1|     0|     1|  2201.1|  2201.1|[18.0,0.0,24.1,1....|\n",
      "| 18|  0|25.1|       0|     0|     3| 2196.47| 2196.47|[18.0,0.0,25.1,0....|\n",
      "| 18|  0|26.3|       0|     0|     3| 2198.19| 2198.19|[18.0,0.0,26.3,0....|\n",
      "| 18|  0|30.1|       0|     0|     3| 2203.47| 2203.47|[18.0,0.0,30.1,0....|\n",
      "| 18|  0|30.1|       0|     0|     3|21344.85|21344.85|[18.0,0.0,30.1,0....|\n",
      "| 18|  0|31.4|       0|     0|     1| 1622.19| 1622.19|[18.0,0.0,31.4,0....|\n",
      "| 18|  0|32.1|       2|     0|     1| 2801.26| 2801.26|[18.0,0.0,32.1,2....|\n",
      "| 18|  0|33.2|       0|     0|     3|  2207.7|  2207.7|[18.0,0.0,33.2,0....|\n",
      "| 18|  0|33.9|       0|     0|     1|11482.63|11482.63|[18.0,0.0,33.9,0....|\n",
      "| 18|  0|35.6|       0|     0|     3| 2211.13| 2211.13|[18.0,0.0,35.6,0....|\n",
      "| 18|  0|38.7|       2|     0|     3| 3393.36| 3393.36|[18.0,0.0,38.7,2....|\n",
      "| 18|  0|39.2|       0|     0|     1| 1633.04| 1633.04|[18.0,0.0,39.2,0....|\n",
      "| 18|  1|16.0|       0|     0|     3|  1694.8|  1694.8|[18.0,1.0,16.0,0....|\n",
      "| 18|  1|17.3|       2|     1|     3|12829.46|12829.46|[18.0,1.0,17.3,2....|\n",
      "| 18|  1|23.0|       0|     0|     3| 1704.57| 1704.57|[18.0,1.0,23.0,0....|\n",
      "| 18|  1|23.8|       0|     0|     3| 1705.62| 1705.62|[18.0,1.0,23.8,0....|\n",
      "| 18|  1|25.2|       0|     1|     3|15518.18|15518.18|[18.0,1.0,25.2,0....|\n",
      "| 18|  1|25.5|       0|     0|     3|  1708.0|  1708.0|[18.0,1.0,25.5,0....|\n",
      "| 18|  1|28.5|       0|     0|     3| 1712.23| 1712.23|[18.0,1.0,28.5,0....|\n",
      "+---+---+----+--------+------+------+--------+--------+--------------------+\n",
      "only showing top 20 rows\n",
      "\n"
     ]
    }
   ],
   "source": [
    "trainDF.show()"
   ]
  },
  {
   "cell_type": "code",
   "execution_count": 28,
   "metadata": {
    "colab": {
     "base_uri": "https://localhost:8080/"
    },
    "executionInfo": {
     "elapsed": 3,
     "status": "ok",
     "timestamp": 1679507233862,
     "user": {
      "displayName": "Kim JI",
      "userId": "12048402999669357880"
     },
     "user_tz": -420
    },
    "id": "6yVk5sA94AQL",
    "outputId": "5072fe52-01f2-4dbd-cf11-5220fddb2ce8"
   },
   "outputs": [
    {
     "name": "stdout",
     "output_type": "stream",
     "text": [
      "+---+---+----+--------+------+------+--------+--------+--------------------+\n",
      "|age|sex| bmi|children|smoker|region|expenses|   label|            features|\n",
      "+---+---+----+--------+------+------+--------+--------+--------------------+\n",
      "| 18|  0|26.7|       0|     0|     1| 1615.77| 1615.77|[18.0,0.0,26.7,0....|\n",
      "| 18|  0|29.2|       0|     0|     3| 7323.73| 7323.73|[18.0,0.0,29.2,0....|\n",
      "| 18|  0|36.9|       0|     1|     1|36149.48|36149.48|[18.0,0.0,36.9,0....|\n",
      "| 18|  0|37.3|       1|     0|     1| 2219.45| 2219.45|[18.0,0.0,37.3,1....|\n",
      "| 18|  0|38.2|       0|     0|     1| 1631.67| 1631.67|[18.0,0.0,38.2,0....|\n",
      "| 18|  0|38.3|       0|     0|     1| 1631.82| 1631.82|[18.0,0.0,38.3,0....|\n",
      "| 18|  0|38.3|       0|     0|     1|14133.04|14133.04|[18.0,0.0,38.3,0....|\n",
      "| 18|  1|31.7|       2|     1|     1|34303.17|34303.17|[18.0,1.0,31.7,2....|\n",
      "| 18|  1|33.8|       1|     0|     1| 1725.55| 1725.55|[18.0,1.0,33.8,1....|\n",
      "| 18|  1|34.1|       0|     0|     1| 1137.01| 1137.01|[18.0,1.0,34.1,0....|\n",
      "| 18|  1|43.0|       0|     0|     1|  1149.4|  1149.4|[18.0,1.0,43.0,0....|\n",
      "| 19|  0|24.7|       0|     0|     0| 1737.38| 1737.38|(6,[0,2],[19.0,24...|\n",
      "| 19|  0|28.3|       0|     1|     2|17468.98|17468.98|[19.0,0.0,28.3,0....|\n",
      "| 19|  0|28.4|       1|     0|     0| 2331.52| 2331.52|[19.0,0.0,28.4,1....|\n",
      "| 19|  0|28.6|       5|     0|     0|  4687.8|  4687.8|[19.0,0.0,28.6,5....|\n",
      "| 19|  0|32.9|       0|     0|     0| 1748.77| 1748.77|(6,[0,2],[19.0,32...|\n",
      "| 19|  0|37.4|       0|     0|     2| 2138.07| 2138.07|[19.0,0.0,37.4,0....|\n",
      "| 19|  1|20.7|       0|     0|     0| 1242.82| 1242.82|[19.0,1.0,20.7,0....|\n",
      "| 19|  1|28.4|       1|     0|     0| 1842.52| 1842.52|[19.0,1.0,28.4,1....|\n",
      "| 19|  1|30.6|       0|     0|     2| 1639.56| 1639.56|[19.0,1.0,30.6,0....|\n",
      "+---+---+----+--------+------+------+--------+--------+--------------------+\n",
      "only showing top 20 rows\n",
      "\n"
     ]
    }
   ],
   "source": [
    "testDF.show()"
   ]
  },
  {
   "cell_type": "code",
   "execution_count": 29,
   "metadata": {
    "colab": {
     "base_uri": "https://localhost:8080/"
    },
    "executionInfo": {
     "elapsed": 852,
     "status": "ok",
     "timestamp": 1679507234712,
     "user": {
      "displayName": "Kim JI",
      "userId": "12048402999669357880"
     },
     "user_tz": -420
    },
    "id": "TjytdeHI8RQ-",
    "outputId": "361bd43a-c778-402c-d88c-e1e0da52cac2"
   },
   "outputs": [
    {
     "data": {
      "text/plain": [
       "[Row(features=SparseVector(6, {0: 19.0, 2: 24.7}))]"
      ]
     },
     "execution_count": 29,
     "metadata": {},
     "output_type": "execute_result"
    }
   ],
   "source": [
    "testDF.select('features').where('expenses == 1737.38').take(1)"
   ]
  },
  {
   "cell_type": "code",
   "execution_count": 30,
   "metadata": {
    "colab": {
     "base_uri": "https://localhost:8080/"
    },
    "executionInfo": {
     "elapsed": 1892,
     "status": "ok",
     "timestamp": 1679507236602,
     "user": {
      "displayName": "Kim JI",
      "userId": "12048402999669357880"
     },
     "user_tz": -420
    },
    "id": "psZqDrLA9Lf_",
    "outputId": "67d8918a-adb2-4b81-cc3f-565224d1b2bf"
   },
   "outputs": [
    {
     "data": {
      "text/plain": [
       "[Row(features=DenseVector([19.0, 0.0, 28.4, 1.0, 0.0, 0.0]))]"
      ]
     },
     "execution_count": 30,
     "metadata": {},
     "output_type": "execute_result"
    }
   ],
   "source": [
    "testDF.select('features').where('expenses == 2331.52').take(1)"
   ]
  },
  {
   "cell_type": "code",
   "execution_count": 31,
   "metadata": {
    "colab": {
     "base_uri": "https://localhost:8080/"
    },
    "executionInfo": {
     "elapsed": 1697,
     "status": "ok",
     "timestamp": 1679507238296,
     "user": {
      "displayName": "Kim JI",
      "userId": "12048402999669357880"
     },
     "user_tz": -420
    },
    "id": "XM7yYGb-4Cxp",
    "outputId": "b710ef1d-247b-4da7-b437-cf0978a03113"
   },
   "outputs": [
    {
     "data": {
      "text/plain": [
       "1338"
      ]
     },
     "execution_count": 31,
     "metadata": {},
     "output_type": "execute_result"
    }
   ],
   "source": [
    "vinsDF.count()"
   ]
  },
  {
   "cell_type": "markdown",
   "metadata": {
    "id": "7d44jZ6PTxw2"
   },
   "source": [
    "# Linear Regression"
   ]
  },
  {
   "cell_type": "code",
   "execution_count": 32,
   "metadata": {
    "executionInfo": {
     "elapsed": 2,
     "status": "ok",
     "timestamp": 1679507238296,
     "user": {
      "displayName": "Kim JI",
      "userId": "12048402999669357880"
     },
     "user_tz": -420
    },
    "id": "j1-2C87O4TD8"
   },
   "outputs": [],
   "source": [
    "lr = LinearRegression(featuresCol='features', labelCol='label')"
   ]
  },
  {
   "cell_type": "code",
   "execution_count": 33,
   "metadata": {
    "executionInfo": {
     "elapsed": 2916,
     "status": "ok",
     "timestamp": 1679507241211,
     "user": {
      "displayName": "Kim JI",
      "userId": "12048402999669357880"
     },
     "user_tz": -420
    },
    "id": "Bt5BcofMyjky"
   },
   "outputs": [],
   "source": [
    "lrModel = lr.fit(trainDF)"
   ]
  },
  {
   "cell_type": "code",
   "execution_count": 34,
   "metadata": {
    "colab": {
     "base_uri": "https://localhost:8080/"
    },
    "executionInfo": {
     "elapsed": 5,
     "status": "ok",
     "timestamp": 1679507241211,
     "user": {
      "displayName": "Kim JI",
      "userId": "12048402999669357880"
     },
     "user_tz": -420
    },
    "id": "OIWooaxz3zoJ",
    "outputId": "26e94496-47b3-4b13-bf8b-afc851fdcbd7"
   },
   "outputs": [
    {
     "name": "stdout",
     "output_type": "stream",
     "text": [
      "+---+---+----+--------+------+------+--------+--------+--------------------+------------------+\n",
      "|age|sex| bmi|children|smoker|region|expenses|   label|            features|        prediction|\n",
      "+---+---+----+--------+------+------+--------+--------+--------------------+------------------+\n",
      "| 18|  0|26.7|       0|     0|     1| 1615.77| 1615.77|[18.0,0.0,26.7,0....|1137.7463927609588|\n",
      "| 18|  0|29.2|       0|     0|     3| 7323.73| 7323.73|[18.0,0.0,29.2,0....|2578.5144869213545|\n",
      "| 18|  0|36.9|       0|     1|     1|36149.48|36149.48|[18.0,0.0,36.9,0....| 28953.00075976341|\n",
      "| 18|  0|37.3|       1|     0|     1| 2219.45| 2219.45|[18.0,0.0,37.3,1....| 4871.203972335175|\n",
      "| 18|  0|38.2|       0|     0|     1| 1631.67| 1631.67|[18.0,0.0,38.2,0....| 4694.790579813531|\n",
      "| 18|  0|38.3|       0|     0|     1| 1631.82| 1631.82|[18.0,0.0,38.3,0....| 4725.721398831376|\n",
      "| 18|  0|38.3|       0|     0|     1|14133.04|14133.04|[18.0,0.0,38.3,0....| 4725.721398831376|\n",
      "| 18|  1|31.7|       2|     1|     1|34303.17|34303.17|[18.0,1.0,31.7,2....| 28374.77184000054|\n",
      "| 18|  1|33.8|       1|     0|     1| 1725.55| 1725.55|[18.0,1.0,33.8,1....|3909.2174485111645|\n",
      "| 18|  1|34.1|       0|     0|     1| 1137.01| 1137.01|[18.0,1.0,34.1,0....|3547.2191418824295|\n",
      "| 18|  1|43.0|       0|     0|     1|  1149.4|  1149.4|[18.0,1.0,43.0,0....|6300.0620344709405|\n",
      "| 19|  0|24.7|       0|     0|     0| 1737.38| 1737.38|(6,[0,2],[19.0,24...| 443.4260604135434|\n",
      "| 19|  0|28.3|       0|     1|     2|17468.98|17468.98|[19.0,0.0,28.3,0....|26884.743990952185|\n",
      "| 19|  0|28.4|       1|     0|     0| 2331.52| 2331.52|[19.0,0.0,28.4,1....|2042.6571277562161|\n",
      "| 19|  0|28.6|       5|     0|     0|  4687.8|  4687.8|[19.0,0.0,28.6,5....| 3923.681820521044|\n",
      "| 19|  0|32.9|       0|     0|     0| 1748.77| 1748.77|(6,[0,2],[19.0,32...| 2979.753219877113|\n",
      "| 19|  0|37.4|       0|     0|     2| 2138.07| 2138.07|[19.0,0.0,37.4,0....|  5039.13769439448|\n",
      "| 19|  1|20.7|       0|     0|     0| 1242.82| 1242.82|[19.0,1.0,20.7,0....|-673.2145584997106|\n",
      "| 19|  1|28.4|       1|     0|     0| 1842.52| 1842.52|[19.0,1.0,28.4,1....|2163.2492695569017|\n",
      "| 19|  1|30.6|       0|     0|     2| 1639.56| 1639.56|[19.0,1.0,30.6,0....| 3056.434142981472|\n",
      "+---+---+----+--------+------+------+--------+--------+--------------------+------------------+\n",
      "only showing top 20 rows\n",
      "\n"
     ]
    }
   ],
   "source": [
    "lrPrediction = lrModel.transform(testDF)\n",
    "lrPrediction.show()"
   ]
  },
  {
   "cell_type": "code",
   "execution_count": 35,
   "metadata": {
    "executionInfo": {
     "elapsed": 4,
     "status": "ok",
     "timestamp": 1679507241212,
     "user": {
      "displayName": "Kim JI",
      "userId": "12048402999669357880"
     },
     "user_tz": -420
    },
    "id": "3sIQkMsz6s3A"
   },
   "outputs": [],
   "source": [
    "evaluator = MulticlassClassificationEvaluator()"
   ]
  },
  {
   "cell_type": "code",
   "execution_count": 36,
   "metadata": {
    "colab": {
     "base_uri": "https://localhost:8080/"
    },
    "executionInfo": {
     "elapsed": 4,
     "status": "ok",
     "timestamp": 1679507241212,
     "user": {
      "displayName": "Kim JI",
      "userId": "12048402999669357880"
     },
     "user_tz": -420
    },
    "id": "cmWTWsz1-wXw",
    "outputId": "0827f1d7-b2f8-47f9-fbf0-5b3f785851c1"
   },
   "outputs": [
    {
     "data": {
      "text/plain": [
       "MulticlassClassificationEvaluator_8ad047c355fe"
      ]
     },
     "execution_count": 36,
     "metadata": {},
     "output_type": "execute_result"
    }
   ],
   "source": [
    "evaluator.setPredictionCol(\"prediction\")"
   ]
  },
  {
   "cell_type": "code",
   "execution_count": 37,
   "metadata": {
    "executionInfo": {
     "elapsed": 2353,
     "status": "ok",
     "timestamp": 1679507243562,
     "user": {
      "displayName": "Kim JI",
      "userId": "12048402999669357880"
     },
     "user_tz": -420
    },
    "id": "zYydT63HBJhO"
   },
   "outputs": [],
   "source": [
    "dfAccuracy = evaluator.evaluate(lrPrediction)"
   ]
  },
  {
   "cell_type": "code",
   "execution_count": 38,
   "metadata": {
    "colab": {
     "base_uri": "https://localhost:8080/"
    },
    "executionInfo": {
     "elapsed": 696,
     "status": "ok",
     "timestamp": 1679507244248,
     "user": {
      "displayName": "Kim JI",
      "userId": "12048402999669357880"
     },
     "user_tz": -420
    },
    "id": "9IoPYp0U_bCd",
    "outputId": "242308f8-f035-44d0-ba29-dbf39ed27cb6"
   },
   "outputs": [
    {
     "data": {
      "text/plain": [
       "0.0"
      ]
     },
     "execution_count": 38,
     "metadata": {},
     "output_type": "execute_result"
    }
   ],
   "source": [
    "dfAccuracy"
   ]
  },
  {
   "cell_type": "code",
   "execution_count": 39,
   "metadata": {
    "executionInfo": {
     "elapsed": 3,
     "status": "ok",
     "timestamp": 1679507244248,
     "user": {
      "displayName": "Kim JI",
      "userId": "12048402999669357880"
     },
     "user_tz": -420
    },
    "id": "wtKVmbuQ_fvN"
   },
   "outputs": [],
   "source": [
    "from pyspark.ml.feature import ChiSqSelector"
   ]
  },
  {
   "cell_type": "code",
   "execution_count": 40,
   "metadata": {
    "executionInfo": {
     "elapsed": 1938,
     "status": "ok",
     "timestamp": 1679507246184,
     "user": {
      "displayName": "Kim JI",
      "userId": "12048402999669357880"
     },
     "user_tz": -420
    },
    "id": "vDzrL1YR4EWW"
   },
   "outputs": [],
   "source": [
    "selector=ChiSqSelector(percentile=0.9, featuresCol=\"features\", outputCol='selectedFeatures', labelCol= \"label\")\n",
    "model=selector.fit(trainDF)\n",
    "result = model.transform(trainDF)\n",
    "trainDF =result.select('label','selectedFeatures').withColumnRenamed('selectedFeatures', 'features')\n",
    "new_test=model.transform(testDF)\n",
    "testDF=new_test.select('label','selectedFeatures').withColumnRenamed('selectedFeatures', 'features')"
   ]
  },
  {
   "cell_type": "code",
   "execution_count": 41,
   "metadata": {
    "colab": {
     "base_uri": "https://localhost:8080/",
     "height": 0
    },
    "executionInfo": {
     "elapsed": 15,
     "status": "ok",
     "timestamp": 1679507246186,
     "user": {
      "displayName": "Kim JI",
      "userId": "12048402999669357880"
     },
     "user_tz": -420
    },
    "id": "P1jnJ8Vb5Mf9",
    "outputId": "3758404e-910b-4057-9309-787b89242813"
   },
   "outputs": [
    {
     "data": {
      "text/html": [
       "\n",
       "  <div id=\"df-d99f4e4e-e41c-418a-86de-e10ae3417045\">\n",
       "    <div class=\"colab-df-container\">\n",
       "      <div>\n",
       "<style scoped>\n",
       "    .dataframe tbody tr th:only-of-type {\n",
       "        vertical-align: middle;\n",
       "    }\n",
       "\n",
       "    .dataframe tbody tr th {\n",
       "        vertical-align: top;\n",
       "    }\n",
       "\n",
       "    .dataframe thead th {\n",
       "        text-align: right;\n",
       "    }\n",
       "</style>\n",
       "<table border=\"1\" class=\"dataframe\">\n",
       "  <thead>\n",
       "    <tr style=\"text-align: right;\">\n",
       "      <th></th>\n",
       "      <th>age</th>\n",
       "      <th>sex</th>\n",
       "      <th>bmi</th>\n",
       "      <th>children</th>\n",
       "      <th>smoker</th>\n",
       "      <th>region</th>\n",
       "      <th>expenses</th>\n",
       "      <th>label</th>\n",
       "    </tr>\n",
       "  </thead>\n",
       "  <tbody>\n",
       "    <tr>\n",
       "      <th>940</th>\n",
       "      <td>18</td>\n",
       "      <td>1</td>\n",
       "      <td>23.2</td>\n",
       "      <td>0</td>\n",
       "      <td>0</td>\n",
       "      <td>1</td>\n",
       "      <td>1121.87</td>\n",
       "      <td>1121.87</td>\n",
       "    </tr>\n",
       "    <tr>\n",
       "      <th>808</th>\n",
       "      <td>18</td>\n",
       "      <td>1</td>\n",
       "      <td>30.1</td>\n",
       "      <td>0</td>\n",
       "      <td>0</td>\n",
       "      <td>1</td>\n",
       "      <td>1131.51</td>\n",
       "      <td>1131.51</td>\n",
       "    </tr>\n",
       "    <tr>\n",
       "      <th>1244</th>\n",
       "      <td>18</td>\n",
       "      <td>1</td>\n",
       "      <td>33.3</td>\n",
       "      <td>0</td>\n",
       "      <td>0</td>\n",
       "      <td>1</td>\n",
       "      <td>1135.94</td>\n",
       "      <td>1135.94</td>\n",
       "    </tr>\n",
       "    <tr>\n",
       "      <th>663</th>\n",
       "      <td>18</td>\n",
       "      <td>1</td>\n",
       "      <td>33.7</td>\n",
       "      <td>0</td>\n",
       "      <td>0</td>\n",
       "      <td>1</td>\n",
       "      <td>1136.40</td>\n",
       "      <td>1136.40</td>\n",
       "    </tr>\n",
       "    <tr>\n",
       "      <th>22</th>\n",
       "      <td>18</td>\n",
       "      <td>1</td>\n",
       "      <td>34.1</td>\n",
       "      <td>0</td>\n",
       "      <td>0</td>\n",
       "      <td>1</td>\n",
       "      <td>1137.01</td>\n",
       "      <td>1137.01</td>\n",
       "    </tr>\n",
       "    <tr>\n",
       "      <th>...</th>\n",
       "      <td>...</td>\n",
       "      <td>...</td>\n",
       "      <td>...</td>\n",
       "      <td>...</td>\n",
       "      <td>...</td>\n",
       "      <td>...</td>\n",
       "      <td>...</td>\n",
       "      <td>...</td>\n",
       "    </tr>\n",
       "    <tr>\n",
       "      <th>819</th>\n",
       "      <td>33</td>\n",
       "      <td>0</td>\n",
       "      <td>35.5</td>\n",
       "      <td>0</td>\n",
       "      <td>1</td>\n",
       "      <td>2</td>\n",
       "      <td>55135.40</td>\n",
       "      <td>55135.40</td>\n",
       "    </tr>\n",
       "    <tr>\n",
       "      <th>577</th>\n",
       "      <td>31</td>\n",
       "      <td>0</td>\n",
       "      <td>38.1</td>\n",
       "      <td>1</td>\n",
       "      <td>1</td>\n",
       "      <td>3</td>\n",
       "      <td>58571.07</td>\n",
       "      <td>58571.07</td>\n",
       "    </tr>\n",
       "    <tr>\n",
       "      <th>1230</th>\n",
       "      <td>52</td>\n",
       "      <td>1</td>\n",
       "      <td>34.5</td>\n",
       "      <td>3</td>\n",
       "      <td>1</td>\n",
       "      <td>2</td>\n",
       "      <td>60021.40</td>\n",
       "      <td>60021.40</td>\n",
       "    </tr>\n",
       "    <tr>\n",
       "      <th>1300</th>\n",
       "      <td>45</td>\n",
       "      <td>1</td>\n",
       "      <td>30.4</td>\n",
       "      <td>0</td>\n",
       "      <td>1</td>\n",
       "      <td>1</td>\n",
       "      <td>62592.87</td>\n",
       "      <td>62592.87</td>\n",
       "    </tr>\n",
       "    <tr>\n",
       "      <th>543</th>\n",
       "      <td>54</td>\n",
       "      <td>0</td>\n",
       "      <td>47.4</td>\n",
       "      <td>0</td>\n",
       "      <td>1</td>\n",
       "      <td>1</td>\n",
       "      <td>63770.43</td>\n",
       "      <td>63770.43</td>\n",
       "    </tr>\n",
       "  </tbody>\n",
       "</table>\n",
       "<p>1338 rows × 8 columns</p>\n",
       "</div>\n",
       "      <button class=\"colab-df-convert\" onclick=\"convertToInteractive('df-d99f4e4e-e41c-418a-86de-e10ae3417045')\"\n",
       "              title=\"Convert this dataframe to an interactive table.\"\n",
       "              style=\"display:none;\">\n",
       "        \n",
       "  <svg xmlns=\"http://www.w3.org/2000/svg\" height=\"24px\"viewBox=\"0 0 24 24\"\n",
       "       width=\"24px\">\n",
       "    <path d=\"M0 0h24v24H0V0z\" fill=\"none\"/>\n",
       "    <path d=\"M18.56 5.44l.94 2.06.94-2.06 2.06-.94-2.06-.94-.94-2.06-.94 2.06-2.06.94zm-11 1L8.5 8.5l.94-2.06 2.06-.94-2.06-.94L8.5 2.5l-.94 2.06-2.06.94zm10 10l.94 2.06.94-2.06 2.06-.94-2.06-.94-.94-2.06-.94 2.06-2.06.94z\"/><path d=\"M17.41 7.96l-1.37-1.37c-.4-.4-.92-.59-1.43-.59-.52 0-1.04.2-1.43.59L10.3 9.45l-7.72 7.72c-.78.78-.78 2.05 0 2.83L4 21.41c.39.39.9.59 1.41.59.51 0 1.02-.2 1.41-.59l7.78-7.78 2.81-2.81c.8-.78.8-2.07 0-2.86zM5.41 20L4 18.59l7.72-7.72 1.47 1.35L5.41 20z\"/>\n",
       "  </svg>\n",
       "      </button>\n",
       "      \n",
       "  <style>\n",
       "    .colab-df-container {\n",
       "      display:flex;\n",
       "      flex-wrap:wrap;\n",
       "      gap: 12px;\n",
       "    }\n",
       "\n",
       "    .colab-df-convert {\n",
       "      background-color: #E8F0FE;\n",
       "      border: none;\n",
       "      border-radius: 50%;\n",
       "      cursor: pointer;\n",
       "      display: none;\n",
       "      fill: #1967D2;\n",
       "      height: 32px;\n",
       "      padding: 0 0 0 0;\n",
       "      width: 32px;\n",
       "    }\n",
       "\n",
       "    .colab-df-convert:hover {\n",
       "      background-color: #E2EBFA;\n",
       "      box-shadow: 0px 1px 2px rgba(60, 64, 67, 0.3), 0px 1px 3px 1px rgba(60, 64, 67, 0.15);\n",
       "      fill: #174EA6;\n",
       "    }\n",
       "\n",
       "    [theme=dark] .colab-df-convert {\n",
       "      background-color: #3B4455;\n",
       "      fill: #D2E3FC;\n",
       "    }\n",
       "\n",
       "    [theme=dark] .colab-df-convert:hover {\n",
       "      background-color: #434B5C;\n",
       "      box-shadow: 0px 1px 3px 1px rgba(0, 0, 0, 0.15);\n",
       "      filter: drop-shadow(0px 1px 2px rgba(0, 0, 0, 0.3));\n",
       "      fill: #FFFFFF;\n",
       "    }\n",
       "  </style>\n",
       "\n",
       "      <script>\n",
       "        const buttonEl =\n",
       "          document.querySelector('#df-d99f4e4e-e41c-418a-86de-e10ae3417045 button.colab-df-convert');\n",
       "        buttonEl.style.display =\n",
       "          google.colab.kernel.accessAllowed ? 'block' : 'none';\n",
       "\n",
       "        async function convertToInteractive(key) {\n",
       "          const element = document.querySelector('#df-d99f4e4e-e41c-418a-86de-e10ae3417045');\n",
       "          const dataTable =\n",
       "            await google.colab.kernel.invokeFunction('convertToInteractive',\n",
       "                                                     [key], {});\n",
       "          if (!dataTable) return;\n",
       "\n",
       "          const docLinkHtml = 'Like what you see? Visit the ' +\n",
       "            '<a target=\"_blank\" href=https://colab.research.google.com/notebooks/data_table.ipynb>data table notebook</a>'\n",
       "            + ' to learn more about interactive tables.';\n",
       "          element.innerHTML = '';\n",
       "          dataTable['output_type'] = 'display_data';\n",
       "          await google.colab.output.renderOutput(dataTable, element);\n",
       "          const docLink = document.createElement('div');\n",
       "          docLink.innerHTML = docLinkHtml;\n",
       "          element.appendChild(docLink);\n",
       "        }\n",
       "      </script>\n",
       "    </div>\n",
       "  </div>\n",
       "  "
      ],
      "text/plain": [
       "      age  sex   bmi  children  smoker region  expenses     label\n",
       "940    18    1  23.2         0       0      1   1121.87   1121.87\n",
       "808    18    1  30.1         0       0      1   1131.51   1131.51\n",
       "1244   18    1  33.3         0       0      1   1135.94   1135.94\n",
       "663    18    1  33.7         0       0      1   1136.40   1136.40\n",
       "22     18    1  34.1         0       0      1   1137.01   1137.01\n",
       "...   ...  ...   ...       ...     ...    ...       ...       ...\n",
       "819    33    0  35.5         0       1      2  55135.40  55135.40\n",
       "577    31    0  38.1         1       1      3  58571.07  58571.07\n",
       "1230   52    1  34.5         3       1      2  60021.40  60021.40\n",
       "1300   45    1  30.4         0       1      1  62592.87  62592.87\n",
       "543    54    0  47.4         0       1      1  63770.43  63770.43\n",
       "\n",
       "[1338 rows x 8 columns]"
      ]
     },
     "execution_count": 41,
     "metadata": {},
     "output_type": "execute_result"
    }
   ],
   "source": [
    "df.sort_values(by=['expenses'])"
   ]
  },
  {
   "cell_type": "code",
   "execution_count": 42,
   "metadata": {
    "colab": {
     "base_uri": "https://localhost:8080/"
    },
    "executionInfo": {
     "elapsed": 13,
     "status": "ok",
     "timestamp": 1679507246186,
     "user": {
      "displayName": "Kim JI",
      "userId": "12048402999669357880"
     },
     "user_tz": -420
    },
    "id": "3SbcZiZh5gMp",
    "outputId": "56d7245b-c4e6-4ae3-8fe0-a65163cfd0b1"
   },
   "outputs": [
    {
     "data": {
      "text/plain": [
       "DenseVector([258.0449, 120.5921, 309.3082, 454.7908, 24660.3108, 333.7488])"
      ]
     },
     "execution_count": 42,
     "metadata": {},
     "output_type": "execute_result"
    }
   ],
   "source": [
    "lrModel.coefficients"
   ]
  },
  {
   "cell_type": "code",
   "execution_count": 43,
   "metadata": {
    "colab": {
     "base_uri": "https://localhost:8080/"
    },
    "executionInfo": {
     "elapsed": 11,
     "status": "ok",
     "timestamp": 1679507246187,
     "user": {
      "displayName": "Kim JI",
      "userId": "12048402999669357880"
     },
     "user_tz": -420
    },
    "id": "oIb0nIaJ_WWP",
    "outputId": "625dd7b2-239b-402d-f946-f9af2f3b4e92"
   },
   "outputs": [
    {
     "data": {
      "text/plain": [
       "6145.8879698994215"
      ]
     },
     "execution_count": 43,
     "metadata": {},
     "output_type": "execute_result"
    }
   ],
   "source": [
    "lrModel.summary.rootMeanSquaredError"
   ]
  },
  {
   "cell_type": "markdown",
   "metadata": {
    "id": "IweRMNz67ZNg"
   },
   "source": [
    "# Decision Tree"
   ]
  },
  {
   "cell_type": "code",
   "execution_count": 44,
   "metadata": {
    "executionInfo": {
     "elapsed": 10,
     "status": "ok",
     "timestamp": 1679507246187,
     "user": {
      "displayName": "Kim JI",
      "userId": "12048402999669357880"
     },
     "user_tz": -420
    },
    "id": "HgCAJv4_7a_Z"
   },
   "outputs": [],
   "source": [
    "from pyspark.ml.regression import DecisionTreeRegressor\n",
    "from pyspark.ml.evaluation import RegressionEvaluator\n",
    "from pyspark.ml.feature import VectorAssembler"
   ]
  },
  {
   "cell_type": "code",
   "execution_count": 44,
   "metadata": {
    "executionInfo": {
     "elapsed": 10,
     "status": "ok",
     "timestamp": 1679507246187,
     "user": {
      "displayName": "Kim JI",
      "userId": "12048402999669357880"
     },
     "user_tz": -420
    },
    "id": "4OP4JI6v-2BJ"
   },
   "outputs": [],
   "source": []
  },
  {
   "cell_type": "code",
   "execution_count": 45,
   "metadata": {
    "executionInfo": {
     "elapsed": 11,
     "status": "ok",
     "timestamp": 1679507246188,
     "user": {
      "displayName": "Kim JI",
      "userId": "12048402999669357880"
     },
     "user_tz": -420
    },
    "id": "l7HOUhMa7cSi"
   },
   "outputs": [],
   "source": [
    "dt = DecisionTreeRegressor(featuresCol='features', labelCol='label')"
   ]
  },
  {
   "cell_type": "code",
   "execution_count": 46,
   "metadata": {
    "executionInfo": {
     "elapsed": 6899,
     "status": "ok",
     "timestamp": 1679507253077,
     "user": {
      "displayName": "Kim JI",
      "userId": "12048402999669357880"
     },
     "user_tz": -420
    },
    "id": "UhbwNZvI8IMD"
   },
   "outputs": [],
   "source": [
    "dtModel = dt.fit(trainDF)"
   ]
  },
  {
   "cell_type": "code",
   "execution_count": 47,
   "metadata": {
    "executionInfo": {
     "elapsed": 576,
     "status": "ok",
     "timestamp": 1679507253638,
     "user": {
      "displayName": "Kim JI",
      "userId": "12048402999669357880"
     },
     "user_tz": -420
    },
    "id": "r5HcxYkR8KHA"
   },
   "outputs": [],
   "source": [
    "dtPredictions = dtModel.transform(testDF)"
   ]
  },
  {
   "cell_type": "code",
   "execution_count": 48,
   "metadata": {
    "colab": {
     "base_uri": "https://localhost:8080/"
    },
    "executionInfo": {
     "elapsed": 449,
     "status": "ok",
     "timestamp": 1679507254086,
     "user": {
      "displayName": "Kim JI",
      "userId": "12048402999669357880"
     },
     "user_tz": -420
    },
    "id": "MztA9_tCM-Y1",
    "outputId": "b9b02048-3619-4cd2-9e33-9de474f44286"
   },
   "outputs": [
    {
     "name": "stdout",
     "output_type": "stream",
     "text": [
      "+--------+--------------------+------------------+\n",
      "|   label|            features|        prediction|\n",
      "+--------+--------------------+------------------+\n",
      "| 1615.77|[18.0,0.0,26.7,0....| 2707.841743119266|\n",
      "| 7323.73|[18.0,0.0,29.2,0....| 2707.841743119266|\n",
      "|36149.48|[18.0,0.0,36.9,0....| 37440.13333333334|\n",
      "| 2219.45|[18.0,0.0,37.3,1....| 2707.841743119266|\n",
      "| 1631.67|[18.0,0.0,38.2,0....| 2707.841743119266|\n",
      "| 1631.82|[18.0,0.0,38.3,0....| 2707.841743119266|\n",
      "|14133.04|[18.0,0.0,38.3,0....| 2707.841743119266|\n",
      "|34303.17|[18.0,1.0,31.7,2....| 34906.42590909091|\n",
      "| 1725.55|[18.0,1.0,33.8,1....| 2707.841743119266|\n",
      "| 1137.01|[18.0,1.0,34.1,0....| 2707.841743119266|\n",
      "|  1149.4|[18.0,1.0,43.0,0....| 2707.841743119266|\n",
      "| 1737.38|(6,[0,2],[19.0,24...| 2707.841743119266|\n",
      "|17468.98|[19.0,0.0,28.3,0....|16464.787999999997|\n",
      "| 2331.52|[19.0,0.0,28.4,1....| 2707.841743119266|\n",
      "|  4687.8|[19.0,0.0,28.6,5....| 5028.691388888889|\n",
      "| 1748.77|(6,[0,2],[19.0,32...| 2707.841743119266|\n",
      "| 2138.07|[19.0,0.0,37.4,0....| 2707.841743119266|\n",
      "| 1242.82|[19.0,1.0,20.7,0....| 2707.841743119266|\n",
      "| 1842.52|[19.0,1.0,28.4,1....| 2707.841743119266|\n",
      "| 1639.56|[19.0,1.0,30.6,0....| 2707.841743119266|\n",
      "+--------+--------------------+------------------+\n",
      "only showing top 20 rows\n",
      "\n"
     ]
    }
   ],
   "source": [
    "dtPredictions.show()"
   ]
  },
  {
   "cell_type": "code",
   "execution_count": 49,
   "metadata": {
    "executionInfo": {
     "elapsed": 3,
     "status": "ok",
     "timestamp": 1679507254087,
     "user": {
      "displayName": "Kim JI",
      "userId": "12048402999669357880"
     },
     "user_tz": -420
    },
    "id": "6BdMd5Ts9NpN"
   },
   "outputs": [],
   "source": [
    "dtEvaluator = RegressionEvaluator(labelCol='label', predictionCol='prediction', metricName='rmse')"
   ]
  },
  {
   "cell_type": "code",
   "execution_count": 50,
   "metadata": {
    "colab": {
     "base_uri": "https://localhost:8080/"
    },
    "executionInfo": {
     "elapsed": 1447,
     "status": "ok",
     "timestamp": 1679507255531,
     "user": {
      "displayName": "Kim JI",
      "userId": "12048402999669357880"
     },
     "user_tz": -420
    },
    "id": "KaC0qnCR8jtO",
    "outputId": "27c3a443-1523-452d-e7e7-937b655f9cbc"
   },
   "outputs": [
    {
     "data": {
      "text/plain": [
       "4292.110985837484"
      ]
     },
     "execution_count": 50,
     "metadata": {},
     "output_type": "execute_result"
    }
   ],
   "source": [
    "rmse = dtEvaluator.evaluate(dtPredictions)\n",
    "rmse"
   ]
  },
  {
   "cell_type": "code",
   "execution_count": 50,
   "metadata": {
    "executionInfo": {
     "elapsed": 4,
     "status": "ok",
     "timestamp": 1679507255532,
     "user": {
      "displayName": "Kim JI",
      "userId": "12048402999669357880"
     },
     "user_tz": -420
    },
    "id": "JCVNtNRQ_j-6"
   },
   "outputs": [],
   "source": []
  },
  {
   "cell_type": "markdown",
   "metadata": {
    "id": "agV-PrVU_qAK"
   },
   "source": [
    "# Random Rain Forrest"
   ]
  },
  {
   "cell_type": "code",
   "execution_count": 51,
   "metadata": {
    "executionInfo": {
     "elapsed": 4,
     "status": "ok",
     "timestamp": 1679507255532,
     "user": {
      "displayName": "Kim JI",
      "userId": "12048402999669357880"
     },
     "user_tz": -420
    },
    "id": "sH1lfWlt_spo"
   },
   "outputs": [],
   "source": [
    "from pyspark.ml.regression import RandomForestRegressor\n",
    "from pyspark.ml.evaluation import RegressionEvaluator\n",
    "from pyspark.ml.feature import VectorAssembler"
   ]
  },
  {
   "cell_type": "code",
   "execution_count": 52,
   "metadata": {
    "executionInfo": {
     "elapsed": 3,
     "status": "ok",
     "timestamp": 1679507255532,
     "user": {
      "displayName": "Kim JI",
      "userId": "12048402999669357880"
     },
     "user_tz": -420
    },
    "id": "KlZs4Jkp_ubP"
   },
   "outputs": [],
   "source": [
    "rf = RandomForestRegressor(featuresCol='features', labelCol='label')"
   ]
  },
  {
   "cell_type": "code",
   "execution_count": 53,
   "metadata": {
    "executionInfo": {
     "elapsed": 5018,
     "status": "ok",
     "timestamp": 1679507260547,
     "user": {
      "displayName": "Kim JI",
      "userId": "12048402999669357880"
     },
     "user_tz": -420
    },
    "id": "44S0rfUv_wok"
   },
   "outputs": [],
   "source": [
    "rfModel = rf.fit(trainDF)"
   ]
  },
  {
   "cell_type": "code",
   "execution_count": 54,
   "metadata": {
    "executionInfo": {
     "elapsed": 15,
     "status": "ok",
     "timestamp": 1679507260547,
     "user": {
      "displayName": "Kim JI",
      "userId": "12048402999669357880"
     },
     "user_tz": -420
    },
    "id": "cOv4I3R__yHL"
   },
   "outputs": [],
   "source": [
    "rfPrediction = rfModel.transform(testDF)"
   ]
  },
  {
   "cell_type": "code",
   "execution_count": 55,
   "metadata": {
    "executionInfo": {
     "elapsed": 15,
     "status": "ok",
     "timestamp": 1679507260548,
     "user": {
      "displayName": "Kim JI",
      "userId": "12048402999669357880"
     },
     "user_tz": -420
    },
    "id": "rEAFiFcb_zPP"
   },
   "outputs": [],
   "source": [
    "rfpdf = rfPrediction.toPandas()"
   ]
  },
  {
   "cell_type": "code",
   "execution_count": 56,
   "metadata": {
    "colab": {
     "base_uri": "https://localhost:8080/"
    },
    "executionInfo": {
     "elapsed": 16,
     "status": "ok",
     "timestamp": 1679507260549,
     "user": {
      "displayName": "Kim JI",
      "userId": "12048402999669357880"
     },
     "user_tz": -420
    },
    "id": "eE_ant_I_0ni",
    "outputId": "863ea6f9-54aa-427c-92cd-5af72643ab91"
   },
   "outputs": [
    {
     "data": {
      "text/plain": [
       "0       5811.866417\n",
       "1       5982.690168\n",
       "2      33125.393130\n",
       "3       5380.486213\n",
       "4       5528.468190\n",
       "           ...     \n",
       "382    24745.382264\n",
       "383    13623.018562\n",
       "384    13137.407597\n",
       "385    16620.824421\n",
       "386    13770.160760\n",
       "Name: prediction, Length: 387, dtype: float64"
      ]
     },
     "execution_count": 56,
     "metadata": {},
     "output_type": "execute_result"
    }
   ],
   "source": [
    "rfpdf['prediction']"
   ]
  },
  {
   "cell_type": "code",
   "execution_count": 57,
   "metadata": {
    "colab": {
     "base_uri": "https://localhost:8080/"
    },
    "executionInfo": {
     "elapsed": 580,
     "status": "ok",
     "timestamp": 1679507261114,
     "user": {
      "displayName": "Kim JI",
      "userId": "12048402999669357880"
     },
     "user_tz": -420
    },
    "id": "1TOz6G7h_2ml",
    "outputId": "f953ab73-21dd-443f-cedb-4c5ab0aa2fbd"
   },
   "outputs": [
    {
     "name": "stdout",
     "output_type": "stream",
     "text": [
      "+--------+--------------------+------------------+\n",
      "|   label|            features|        prediction|\n",
      "+--------+--------------------+------------------+\n",
      "| 1615.77|[18.0,0.0,26.7,0....| 5811.866417100149|\n",
      "| 7323.73|[18.0,0.0,29.2,0....| 5982.690168161431|\n",
      "|36149.48|[18.0,0.0,36.9,0....|33125.393129573706|\n",
      "| 2219.45|[18.0,0.0,37.3,1....| 5380.486213325072|\n",
      "| 1631.67|[18.0,0.0,38.2,0....|5528.4681903759865|\n",
      "| 1631.82|[18.0,0.0,38.3,0....|5528.4681903759865|\n",
      "|14133.04|[18.0,0.0,38.3,0....|5528.4681903759865|\n",
      "|34303.17|[18.0,1.0,31.7,2....|30885.248552514135|\n",
      "| 1725.55|[18.0,1.0,33.8,1....|5273.1865520981755|\n",
      "| 1137.01|[18.0,1.0,34.1,0....| 4739.098944469025|\n",
      "|  1149.4|[18.0,1.0,43.0,0....| 4449.321976875681|\n",
      "| 1737.38|(6,[0,2],[19.0,24...|  5197.87191834599|\n",
      "|17468.98|[19.0,0.0,28.3,0....| 18990.70761418436|\n",
      "| 2331.52|[19.0,0.0,28.4,1....| 5452.172070377603|\n",
      "|  4687.8|[19.0,0.0,28.6,5....| 7249.756171436701|\n",
      "| 1748.77|(6,[0,2],[19.0,32...| 5966.991613408451|\n",
      "| 2138.07|[19.0,0.0,37.4,0....| 7223.642617360749|\n",
      "| 1242.82|[19.0,1.0,20.7,0....| 4161.493760003251|\n",
      "| 1842.52|[19.0,1.0,28.4,1....| 4825.814267701466|\n",
      "| 1639.56|[19.0,1.0,30.6,0....| 5688.388047344104|\n",
      "+--------+--------------------+------------------+\n",
      "only showing top 20 rows\n",
      "\n"
     ]
    }
   ],
   "source": [
    "rfPrediction.show()"
   ]
  },
  {
   "cell_type": "code",
   "execution_count": 58,
   "metadata": {
    "colab": {
     "base_uri": "https://localhost:8080/",
     "height": 0
    },
    "executionInfo": {
     "elapsed": 1970,
     "status": "ok",
     "timestamp": 1679507263082,
     "user": {
      "displayName": "Kim JI",
      "userId": "12048402999669357880"
     },
     "user_tz": -420
    },
    "id": "88Eg6-yg_4cm",
    "outputId": "9348c0c6-ab7f-4e81-bc62-d65e0adc3f56"
   },
   "outputs": [
    {
     "data": {
      "text/plain": [
       "Text(0, 0.5, 'Prediction')"
      ]
     },
     "execution_count": 58,
     "metadata": {},
     "output_type": "execute_result"
    },
    {
     "data": {
      "image/png": "[encoded data removed]",
      "text/plain": [
       "<Figure size 432x288 with 1 Axes>"
      ]
     },
     "metadata": {
      "needs_background": "light"
     },
     "output_type": "display_data"
    }
   ],
   "source": [
    "import matplotlib.pyplot as plt\n",
    "plt.scatter(rfpdf['label'], rfpdf['prediction'])\n",
    "plt.xlabel('Number')\n",
    "plt.ylabel('Prediction')"
   ]
  },
  {
   "cell_type": "code",
   "execution_count": 59,
   "metadata": {
    "executionInfo": {
     "elapsed": 4,
     "status": "ok",
     "timestamp": 1679507263082,
     "user": {
      "displayName": "Kim JI",
      "userId": "12048402999669357880"
     },
     "user_tz": -420
    },
    "id": "gb0qBYa5_-JL"
   },
   "outputs": [],
   "source": [
    "dtEvaluator = RegressionEvaluator(labelCol='label', predictionCol='prediction', metricName='rmse')"
   ]
  },
  {
   "cell_type": "code",
   "execution_count": 60,
   "metadata": {
    "executionInfo": {
     "elapsed": 623,
     "status": "ok",
     "timestamp": 1679507263701,
     "user": {
      "displayName": "Kim JI",
      "userId": "12048402999669357880"
     },
     "user_tz": -420
    },
    "id": "hUbncNBp__ut"
   },
   "outputs": [],
   "source": [
    "rmse = dtEvaluator.evaluate(rfPrediction)"
   ]
  },
  {
   "cell_type": "code",
   "execution_count": 61,
   "metadata": {
    "colab": {
     "base_uri": "https://localhost:8080/"
    },
    "executionInfo": {
     "elapsed": 4,
     "status": "ok",
     "timestamp": 1679507263701,
     "user": {
      "displayName": "Kim JI",
      "userId": "12048402999669357880"
     },
     "user_tz": -420
    },
    "id": "BK5Wnw4BABCK",
    "outputId": "c9e02055-e95b-40f2-e77b-046bd84614d3"
   },
   "outputs": [
    {
     "data": {
      "text/plain": [
       "4773.8529744357"
      ]
     },
     "execution_count": 61,
     "metadata": {},
     "output_type": "execute_result"
    }
   ],
   "source": [
    "rmse"
   ]
  },
  {
   "cell_type": "code",
   "execution_count": 61,
   "metadata": {
    "executionInfo": {
     "elapsed": 4,
     "status": "ok",
     "timestamp": 1679507263702,
     "user": {
      "displayName": "Kim JI",
      "userId": "12048402999669357880"
     },
     "user_tz": -420
    },
    "id": "g8GCKUfYAChf"
   },
   "outputs": [],
   "source": []
  }
 ],
 "metadata": {
  "colab": {
   "authorship_tag": "ABX9TyOA6c0LSkHbAd3vrlNxZ86t",
   "collapsed_sections": [
    "IweRMNz67ZNg",
    "agV-PrVU_qAK"
   ],
   "mount_file_id": "1UR7YaSZJv31SFUHeob1xdX2tUZ5Vp9Sf",
   "provenance": [
    {
     "file_id": "1O5CgIIptyOv6DnySbBOinBKoyndS-i3B",
     "timestamp": 1679505595665
    }
   ]
  },
  "kernelspec": {
   "display_name": "Python 3 (ipykernel)",
   "language": "python",
   "name": "python3"
  },
  "language_info": {
   "codemirror_mode": {
    "name": "ipython",
    "version": 3
   },
   "file_extension": ".py",
   "mimetype": "text/x-python",
   "name": "python",
   "nbconvert_exporter": "python",
   "pygments_lexer": "ipython3",
   "version": "3.9.12"
  }
 },
 "nbformat": 4,
 "nbformat_minor": 1
}
